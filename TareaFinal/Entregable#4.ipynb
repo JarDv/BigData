{
 "cells": [
  {
   "cell_type": "code",
   "execution_count": 1,
   "metadata": {},
   "outputs": [],
   "source": [
    "#imports\n",
    "import pandas as pd\n",
    "from pandas import set_option\n",
    "import numpy as np\n",
    "import math as math\n",
    "import seaborn as sns\n",
    "\n",
    "import matplotlib\n",
    "from matplotlib.pyplot import figure\n",
    "import matplotlib.pyplot as plt\n",
    "\n",
    "from sklearn.linear_model import LinearRegression\n",
    "from sklearn.feature_selection import RFE\n",
    "from sklearn.model_selection import train_test_split\n",
    "from sklearn import metrics\n",
    "from sklearn.preprocessing import OrdinalEncoder\n",
    "from sklearn.decomposition import PCA\n",
    "from sklearn.metrics import plot_confusion_matrix\n",
    "from sklearn.calibration import calibration_curve\n",
    "from sklearn.metrics import accuracy_score\n",
    "import warnings\n",
    "warnings.filterwarnings(\"ignore\")\n",
    "\n",
    "set_option('display.width', 100)\n",
    "set_option('precision', 2)\n",
    "\n",
    "pd.set_option(\"display.max_columns\", 500)\n",
    "pd.set_option(\"display.max_rows\", 500)\n",
    "%matplotlib inline"
   ]
  },
  {
   "cell_type": "markdown",
   "metadata": {},
   "source": [
    "# Cargando y explorando los datos"
   ]
  },
  {
   "cell_type": "code",
   "execution_count": 2,
   "metadata": {
    "scrolled": true
   },
   "outputs": [],
   "source": [
    "dataFrame = pd.read_csv('customerTargeting.csv', header =0)"
   ]
  },
  {
   "cell_type": "markdown",
   "metadata": {},
   "source": [
    "***\n",
    "> Mostramos las columnas que tiene el data frame\n",
    "> Mostramos información del tipo de dato que tenemos en cada variable\n",
    "***"
   ]
  },
  {
   "cell_type": "code",
   "execution_count": 3,
   "metadata": {
    "scrolled": false
   },
   "outputs": [
    {
     "data": {
      "text/plain": [
       "Index(['g1_1', 'g1_2', 'g1_3', 'g1_4', 'g1_5', 'g1_6', 'g1_7', 'g1_8', 'g1_9', 'g1_10', 'g1_11',\n",
       "       'g1_12', 'g1_13', 'g1_14', 'g1_15', 'g1_16', 'g1_17', 'g1_18', 'g1_19', 'g1_20', 'g1_21',\n",
       "       'g2_1', 'g2_2', 'g2_3', 'g2_4', 'g2_5', 'g2_6', 'g2_7', 'g2_8', 'g2_9', 'g2_10', 'g2_11',\n",
       "       'g2_12', 'g2_13', 'g2_14', 'g2_15', 'g2_16', 'g2_17', 'g2_18', 'g2_19', 'g2_20', 'g2_21',\n",
       "       'c_1', 'c_2', 'c_3', 'c_4', 'c_5', 'c_6', 'c_7', 'c_8', 'c_9', 'c_10', 'c_11', 'c_12',\n",
       "       'c_13', 'c_14', 'c_15', 'c_16', 'c_17', 'c_18', 'c_19', 'c_20', 'c_21', 'c_22', 'c_23',\n",
       "       'c_24', 'c_25', 'c_26', 'c_27', 'c_28', 'target'],\n",
       "      dtype='object')"
      ]
     },
     "execution_count": 3,
     "metadata": {},
     "output_type": "execute_result"
    }
   ],
   "source": [
    "dataFrame.columns"
   ]
  },
  {
   "cell_type": "code",
   "execution_count": 4,
   "metadata": {},
   "outputs": [
    {
     "name": "stdout",
     "output_type": "stream",
     "text": [
      "<class 'pandas.core.frame.DataFrame'>\n",
      "RangeIndex: 6620 entries, 0 to 6619\n",
      "Data columns (total 71 columns):\n",
      "g1_1      6620 non-null float64\n",
      "g1_2      6620 non-null int64\n",
      "g1_3      6620 non-null int64\n",
      "g1_4      6620 non-null int64\n",
      "g1_5      6620 non-null int64\n",
      "g1_6      6620 non-null int64\n",
      "g1_7      6620 non-null int64\n",
      "g1_8      6620 non-null int64\n",
      "g1_9      6620 non-null int64\n",
      "g1_10     6620 non-null int64\n",
      "g1_11     6620 non-null int64\n",
      "g1_12     6620 non-null int64\n",
      "g1_13     6620 non-null float64\n",
      "g1_14     6620 non-null float64\n",
      "g1_15     6620 non-null float64\n",
      "g1_16     6620 non-null float64\n",
      "g1_17     6620 non-null float64\n",
      "g1_18     6620 non-null float64\n",
      "g1_19     6620 non-null float64\n",
      "g1_20     6620 non-null float64\n",
      "g1_21     6620 non-null float64\n",
      "g2_1      6620 non-null float64\n",
      "g2_2      6620 non-null int64\n",
      "g2_3      6620 non-null int64\n",
      "g2_4      6620 non-null int64\n",
      "g2_5      6620 non-null int64\n",
      "g2_6      6620 non-null int64\n",
      "g2_7      6620 non-null int64\n",
      "g2_8      6620 non-null int64\n",
      "g2_9      6620 non-null int64\n",
      "g2_10     6620 non-null int64\n",
      "g2_11     6620 non-null int64\n",
      "g2_12     6620 non-null int64\n",
      "g2_13     6620 non-null float64\n",
      "g2_14     6620 non-null float64\n",
      "g2_15     6620 non-null float64\n",
      "g2_16     6620 non-null float64\n",
      "g2_17     6620 non-null float64\n",
      "g2_18     6620 non-null float64\n",
      "g2_19     6620 non-null float64\n",
      "g2_20     6620 non-null float64\n",
      "g2_21     6620 non-null float64\n",
      "c_1       6620 non-null float64\n",
      "c_2       6620 non-null int64\n",
      "c_3       6620 non-null int64\n",
      "c_4       6620 non-null int64\n",
      "c_5       6620 non-null int64\n",
      "c_6       6620 non-null int64\n",
      "c_7       6620 non-null int64\n",
      "c_8       6620 non-null int64\n",
      "c_9       6620 non-null float64\n",
      "c_10      6620 non-null int64\n",
      "c_11      6620 non-null int64\n",
      "c_12      6620 non-null int64\n",
      "c_13      6620 non-null int64\n",
      "c_14      6620 non-null int64\n",
      "c_15      6620 non-null int64\n",
      "c_16      6620 non-null int64\n",
      "c_17      6620 non-null int64\n",
      "c_18      6620 non-null int64\n",
      "c_19      6620 non-null int64\n",
      "c_20      6620 non-null float64\n",
      "c_21      6620 non-null float64\n",
      "c_22      6620 non-null float64\n",
      "c_23      6620 non-null float64\n",
      "c_24      6620 non-null int64\n",
      "c_25      6620 non-null float64\n",
      "c_26      6620 non-null float64\n",
      "c_27      6620 non-null float64\n",
      "c_28      6620 non-null float64\n",
      "target    6620 non-null int64\n",
      "dtypes: float64(30), int64(41)\n",
      "memory usage: 3.6 MB\n",
      "None\n"
     ]
    }
   ],
   "source": [
    "print(dataFrame.info())"
   ]
  },
  {
   "cell_type": "markdown",
   "metadata": {},
   "source": [
    "***\n",
    "> Buscando datos invalidos o nulos\n",
    "> [ Vemos que no hay datos invalidos ]\n",
    "***"
   ]
  },
  {
   "cell_type": "code",
   "execution_count": 5,
   "metadata": {
    "scrolled": true
   },
   "outputs": [
    {
     "name": "stdout",
     "output_type": "stream",
     "text": [
      "Total de datos nulos o invalidos: \n",
      "0\n"
     ]
    }
   ],
   "source": [
    "print(\"Total de datos nulos o invalidos: \" , dataFrame.isnull().sum().sum(), sep='\\n')"
   ]
  },
  {
   "cell_type": "code",
   "execution_count": 6,
   "metadata": {},
   "outputs": [
    {
     "data": {
      "text/html": [
       "<div>\n",
       "<style scoped>\n",
       "    .dataframe tbody tr th:only-of-type {\n",
       "        vertical-align: middle;\n",
       "    }\n",
       "\n",
       "    .dataframe tbody tr th {\n",
       "        vertical-align: top;\n",
       "    }\n",
       "\n",
       "    .dataframe thead th {\n",
       "        text-align: right;\n",
       "    }\n",
       "</style>\n",
       "<table border=\"1\" class=\"dataframe\">\n",
       "  <thead>\n",
       "    <tr style=\"text-align: right;\">\n",
       "      <th></th>\n",
       "      <th>g1_1</th>\n",
       "      <th>g1_2</th>\n",
       "      <th>g1_3</th>\n",
       "      <th>g1_4</th>\n",
       "      <th>g1_5</th>\n",
       "      <th>g1_6</th>\n",
       "      <th>g1_7</th>\n",
       "      <th>g1_8</th>\n",
       "      <th>g1_9</th>\n",
       "      <th>g1_10</th>\n",
       "      <th>g1_11</th>\n",
       "      <th>g1_12</th>\n",
       "      <th>g1_13</th>\n",
       "      <th>g1_14</th>\n",
       "      <th>g1_15</th>\n",
       "      <th>g1_16</th>\n",
       "      <th>g1_17</th>\n",
       "      <th>g1_18</th>\n",
       "      <th>g1_19</th>\n",
       "      <th>g1_20</th>\n",
       "      <th>g1_21</th>\n",
       "      <th>g2_1</th>\n",
       "      <th>g2_2</th>\n",
       "      <th>g2_3</th>\n",
       "      <th>g2_4</th>\n",
       "      <th>g2_5</th>\n",
       "      <th>g2_6</th>\n",
       "      <th>g2_7</th>\n",
       "      <th>g2_8</th>\n",
       "      <th>g2_9</th>\n",
       "      <th>g2_10</th>\n",
       "      <th>g2_11</th>\n",
       "      <th>g2_12</th>\n",
       "      <th>g2_13</th>\n",
       "      <th>g2_14</th>\n",
       "      <th>g2_15</th>\n",
       "      <th>g2_16</th>\n",
       "      <th>g2_17</th>\n",
       "      <th>g2_18</th>\n",
       "      <th>g2_19</th>\n",
       "      <th>g2_20</th>\n",
       "      <th>g2_21</th>\n",
       "      <th>c_1</th>\n",
       "      <th>c_2</th>\n",
       "      <th>c_3</th>\n",
       "      <th>c_4</th>\n",
       "      <th>c_5</th>\n",
       "      <th>c_6</th>\n",
       "      <th>c_7</th>\n",
       "      <th>c_8</th>\n",
       "      <th>c_9</th>\n",
       "      <th>c_10</th>\n",
       "      <th>c_11</th>\n",
       "      <th>c_12</th>\n",
       "      <th>c_13</th>\n",
       "      <th>c_14</th>\n",
       "      <th>c_15</th>\n",
       "      <th>c_16</th>\n",
       "      <th>c_17</th>\n",
       "      <th>c_18</th>\n",
       "      <th>c_19</th>\n",
       "      <th>c_20</th>\n",
       "      <th>c_21</th>\n",
       "      <th>c_22</th>\n",
       "      <th>c_23</th>\n",
       "      <th>c_24</th>\n",
       "      <th>c_25</th>\n",
       "      <th>c_26</th>\n",
       "      <th>c_27</th>\n",
       "      <th>c_28</th>\n",
       "      <th>target</th>\n",
       "    </tr>\n",
       "  </thead>\n",
       "  <tbody>\n",
       "    <tr>\n",
       "      <td>count</td>\n",
       "      <td>6620.00</td>\n",
       "      <td>6620.00</td>\n",
       "      <td>6620.00</td>\n",
       "      <td>6620.00</td>\n",
       "      <td>6620.00</td>\n",
       "      <td>6620.00</td>\n",
       "      <td>6620.00</td>\n",
       "      <td>6620.00</td>\n",
       "      <td>6620.00</td>\n",
       "      <td>6620.00</td>\n",
       "      <td>6620.00</td>\n",
       "      <td>6620.00</td>\n",
       "      <td>6620.00</td>\n",
       "      <td>6620.00</td>\n",
       "      <td>6620.00</td>\n",
       "      <td>6620.00</td>\n",
       "      <td>6620.00</td>\n",
       "      <td>6620.00</td>\n",
       "      <td>6620.00</td>\n",
       "      <td>6.62e+03</td>\n",
       "      <td>6620.00</td>\n",
       "      <td>6620.00</td>\n",
       "      <td>6620.00</td>\n",
       "      <td>6620.00</td>\n",
       "      <td>6620.00</td>\n",
       "      <td>6620.00</td>\n",
       "      <td>6620.00</td>\n",
       "      <td>6620.00</td>\n",
       "      <td>6620.00</td>\n",
       "      <td>6620.00</td>\n",
       "      <td>6620.00</td>\n",
       "      <td>6620.00</td>\n",
       "      <td>6620.00</td>\n",
       "      <td>6620.00</td>\n",
       "      <td>6620.00</td>\n",
       "      <td>6620.00</td>\n",
       "      <td>6620.00</td>\n",
       "      <td>6620.00</td>\n",
       "      <td>6620.00</td>\n",
       "      <td>6.62e+03</td>\n",
       "      <td>6620.00</td>\n",
       "      <td>6620.00</td>\n",
       "      <td>6620.00</td>\n",
       "      <td>6620.00</td>\n",
       "      <td>6620.00</td>\n",
       "      <td>6620.00</td>\n",
       "      <td>6620.00</td>\n",
       "      <td>6620.0</td>\n",
       "      <td>6620.00</td>\n",
       "      <td>6620.0</td>\n",
       "      <td>6620.00</td>\n",
       "      <td>6620.00</td>\n",
       "      <td>6620.00</td>\n",
       "      <td>6620.00</td>\n",
       "      <td>6620.00</td>\n",
       "      <td>6620.00</td>\n",
       "      <td>6620.00</td>\n",
       "      <td>6620.00</td>\n",
       "      <td>6620.00</td>\n",
       "      <td>6620.00</td>\n",
       "      <td>6620.00</td>\n",
       "      <td>6620.00</td>\n",
       "      <td>6.62e+03</td>\n",
       "      <td>6.62e+03</td>\n",
       "      <td>6.62e+03</td>\n",
       "      <td>6620.00</td>\n",
       "      <td>6620.00</td>\n",
       "      <td>6620.00</td>\n",
       "      <td>6.62e+03</td>\n",
       "      <td>6620.00</td>\n",
       "      <td>6620.00</td>\n",
       "    </tr>\n",
       "    <tr>\n",
       "      <td>mean</td>\n",
       "      <td>2.71</td>\n",
       "      <td>14.42</td>\n",
       "      <td>10.49</td>\n",
       "      <td>24.91</td>\n",
       "      <td>10.99</td>\n",
       "      <td>13.41</td>\n",
       "      <td>10.16</td>\n",
       "      <td>10.75</td>\n",
       "      <td>14.17</td>\n",
       "      <td>3.25</td>\n",
       "      <td>-3.42</td>\n",
       "      <td>-0.17</td>\n",
       "      <td>3.15</td>\n",
       "      <td>3.04</td>\n",
       "      <td>10.27</td>\n",
       "      <td>4.74</td>\n",
       "      <td>1.12</td>\n",
       "      <td>1.16</td>\n",
       "      <td>0.21</td>\n",
       "      <td>5.89e-02</td>\n",
       "      <td>0.45</td>\n",
       "      <td>4.81</td>\n",
       "      <td>15.11</td>\n",
       "      <td>10.02</td>\n",
       "      <td>25.13</td>\n",
       "      <td>11.03</td>\n",
       "      <td>14.04</td>\n",
       "      <td>10.63</td>\n",
       "      <td>10.25</td>\n",
       "      <td>13.50</td>\n",
       "      <td>3.41</td>\n",
       "      <td>-3.25</td>\n",
       "      <td>0.16</td>\n",
       "      <td>3.18</td>\n",
       "      <td>3.05</td>\n",
       "      <td>4.84</td>\n",
       "      <td>1.15</td>\n",
       "      <td>1.13</td>\n",
       "      <td>0.21</td>\n",
       "      <td>5.82e-02</td>\n",
       "      <td>0.45</td>\n",
       "      <td>3.90</td>\n",
       "      <td>1.89</td>\n",
       "      <td>1.56</td>\n",
       "      <td>1.56</td>\n",
       "      <td>3.12</td>\n",
       "      <td>0.18</td>\n",
       "      <td>0.2</td>\n",
       "      <td>0.18</td>\n",
       "      <td>0.2</td>\n",
       "      <td>1.95</td>\n",
       "      <td>4.41</td>\n",
       "      <td>-4.63</td>\n",
       "      <td>-0.22</td>\n",
       "      <td>-0.09</td>\n",
       "      <td>-0.09</td>\n",
       "      <td>0.11</td>\n",
       "      <td>0.13</td>\n",
       "      <td>6.50</td>\n",
       "      <td>-6.83</td>\n",
       "      <td>-0.33</td>\n",
       "      <td>-0.03</td>\n",
       "      <td>-6.72e-03</td>\n",
       "      <td>-4.15e-03</td>\n",
       "      <td>8.83e-03</td>\n",
       "      <td>0.00</td>\n",
       "      <td>-0.23</td>\n",
       "      <td>-0.10</td>\n",
       "      <td>4.08e-04</td>\n",
       "      <td>1.92</td>\n",
       "      <td>1.03</td>\n",
       "    </tr>\n",
       "    <tr>\n",
       "      <td>std</td>\n",
       "      <td>1.86</td>\n",
       "      <td>10.70</td>\n",
       "      <td>8.38</td>\n",
       "      <td>18.17</td>\n",
       "      <td>5.64</td>\n",
       "      <td>10.09</td>\n",
       "      <td>7.50</td>\n",
       "      <td>7.96</td>\n",
       "      <td>9.87</td>\n",
       "      <td>8.48</td>\n",
       "      <td>8.58</td>\n",
       "      <td>15.04</td>\n",
       "      <td>0.93</td>\n",
       "      <td>0.83</td>\n",
       "      <td>3.76</td>\n",
       "      <td>2.13</td>\n",
       "      <td>0.58</td>\n",
       "      <td>0.57</td>\n",
       "      <td>0.27</td>\n",
       "      <td>1.52e-01</td>\n",
       "      <td>0.14</td>\n",
       "      <td>3.94</td>\n",
       "      <td>10.84</td>\n",
       "      <td>8.25</td>\n",
       "      <td>18.19</td>\n",
       "      <td>5.67</td>\n",
       "      <td>10.21</td>\n",
       "      <td>7.56</td>\n",
       "      <td>7.83</td>\n",
       "      <td>9.72</td>\n",
       "      <td>8.75</td>\n",
       "      <td>8.31</td>\n",
       "      <td>15.03</td>\n",
       "      <td>0.93</td>\n",
       "      <td>0.82</td>\n",
       "      <td>2.15</td>\n",
       "      <td>0.59</td>\n",
       "      <td>0.55</td>\n",
       "      <td>0.27</td>\n",
       "      <td>1.51e-01</td>\n",
       "      <td>0.14</td>\n",
       "      <td>1.09</td>\n",
       "      <td>0.23</td>\n",
       "      <td>4.06</td>\n",
       "      <td>4.06</td>\n",
       "      <td>3.94</td>\n",
       "      <td>0.39</td>\n",
       "      <td>0.4</td>\n",
       "      <td>0.39</td>\n",
       "      <td>0.4</td>\n",
       "      <td>1.22</td>\n",
       "      <td>8.50</td>\n",
       "      <td>9.09</td>\n",
       "      <td>14.47</td>\n",
       "      <td>7.47</td>\n",
       "      <td>6.38</td>\n",
       "      <td>6.34</td>\n",
       "      <td>7.42</td>\n",
       "      <td>12.18</td>\n",
       "      <td>12.97</td>\n",
       "      <td>21.50</td>\n",
       "      <td>1.22</td>\n",
       "      <td>1.07e+00</td>\n",
       "      <td>6.63e-01</td>\n",
       "      <td>6.83e-01</td>\n",
       "      <td>0.32</td>\n",
       "      <td>3.39</td>\n",
       "      <td>1.94</td>\n",
       "      <td>9.28e-02</td>\n",
       "      <td>0.30</td>\n",
       "      <td>0.73</td>\n",
       "    </tr>\n",
       "    <tr>\n",
       "      <td>min</td>\n",
       "      <td>1.05</td>\n",
       "      <td>0.00</td>\n",
       "      <td>0.00</td>\n",
       "      <td>0.00</td>\n",
       "      <td>1.00</td>\n",
       "      <td>0.00</td>\n",
       "      <td>0.00</td>\n",
       "      <td>0.00</td>\n",
       "      <td>0.00</td>\n",
       "      <td>-27.00</td>\n",
       "      <td>-38.00</td>\n",
       "      <td>-65.00</td>\n",
       "      <td>0.00</td>\n",
       "      <td>0.17</td>\n",
       "      <td>0.00</td>\n",
       "      <td>0.00</td>\n",
       "      <td>0.00</td>\n",
       "      <td>0.00</td>\n",
       "      <td>0.00</td>\n",
       "      <td>0.00e+00</td>\n",
       "      <td>0.00</td>\n",
       "      <td>0.95</td>\n",
       "      <td>0.00</td>\n",
       "      <td>0.00</td>\n",
       "      <td>0.00</td>\n",
       "      <td>1.00</td>\n",
       "      <td>0.00</td>\n",
       "      <td>0.00</td>\n",
       "      <td>0.00</td>\n",
       "      <td>0.00</td>\n",
       "      <td>-27.00</td>\n",
       "      <td>-36.00</td>\n",
       "      <td>-63.00</td>\n",
       "      <td>0.00</td>\n",
       "      <td>0.22</td>\n",
       "      <td>0.00</td>\n",
       "      <td>0.00</td>\n",
       "      <td>0.00</td>\n",
       "      <td>0.00</td>\n",
       "      <td>0.00e+00</td>\n",
       "      <td>0.00</td>\n",
       "      <td>2.50</td>\n",
       "      <td>0.00</td>\n",
       "      <td>-10.00</td>\n",
       "      <td>-10.00</td>\n",
       "      <td>-6.00</td>\n",
       "      <td>0.00</td>\n",
       "      <td>0.0</td>\n",
       "      <td>0.00</td>\n",
       "      <td>0.0</td>\n",
       "      <td>0.00</td>\n",
       "      <td>-28.00</td>\n",
       "      <td>-47.00</td>\n",
       "      <td>-63.00</td>\n",
       "      <td>-33.00</td>\n",
       "      <td>-29.00</td>\n",
       "      <td>-28.00</td>\n",
       "      <td>-40.00</td>\n",
       "      <td>-39.00</td>\n",
       "      <td>-74.00</td>\n",
       "      <td>-101.00</td>\n",
       "      <td>-4.68</td>\n",
       "      <td>-4.32e+00</td>\n",
       "      <td>-2.51e+00</td>\n",
       "      <td>-3.12e+00</td>\n",
       "      <td>-2.00</td>\n",
       "      <td>-15.20</td>\n",
       "      <td>-9.18</td>\n",
       "      <td>-7.50e-01</td>\n",
       "      <td>0.00</td>\n",
       "      <td>0.00</td>\n",
       "    </tr>\n",
       "    <tr>\n",
       "      <td>25%</td>\n",
       "      <td>1.67</td>\n",
       "      <td>6.00</td>\n",
       "      <td>4.00</td>\n",
       "      <td>10.00</td>\n",
       "      <td>6.00</td>\n",
       "      <td>5.00</td>\n",
       "      <td>4.00</td>\n",
       "      <td>4.00</td>\n",
       "      <td>6.00</td>\n",
       "      <td>-2.00</td>\n",
       "      <td>-8.00</td>\n",
       "      <td>-8.25</td>\n",
       "      <td>2.50</td>\n",
       "      <td>2.49</td>\n",
       "      <td>8.51</td>\n",
       "      <td>3.39</td>\n",
       "      <td>0.74</td>\n",
       "      <td>0.78</td>\n",
       "      <td>0.01</td>\n",
       "      <td>1.83e-03</td>\n",
       "      <td>0.35</td>\n",
       "      <td>2.50</td>\n",
       "      <td>6.00</td>\n",
       "      <td>3.00</td>\n",
       "      <td>11.00</td>\n",
       "      <td>6.00</td>\n",
       "      <td>6.00</td>\n",
       "      <td>4.00</td>\n",
       "      <td>4.00</td>\n",
       "      <td>5.00</td>\n",
       "      <td>-2.00</td>\n",
       "      <td>-8.00</td>\n",
       "      <td>-8.00</td>\n",
       "      <td>2.50</td>\n",
       "      <td>2.50</td>\n",
       "      <td>3.47</td>\n",
       "      <td>0.76</td>\n",
       "      <td>0.76</td>\n",
       "      <td>0.01</td>\n",
       "      <td>1.83e-03</td>\n",
       "      <td>0.35</td>\n",
       "      <td>3.25</td>\n",
       "      <td>1.74</td>\n",
       "      <td>-1.00</td>\n",
       "      <td>-1.00</td>\n",
       "      <td>0.00</td>\n",
       "      <td>0.00</td>\n",
       "      <td>0.0</td>\n",
       "      <td>0.00</td>\n",
       "      <td>0.0</td>\n",
       "      <td>0.90</td>\n",
       "      <td>0.00</td>\n",
       "      <td>-9.00</td>\n",
       "      <td>-7.00</td>\n",
       "      <td>-4.00</td>\n",
       "      <td>-3.00</td>\n",
       "      <td>-3.00</td>\n",
       "      <td>-3.00</td>\n",
       "      <td>-1.00</td>\n",
       "      <td>-13.00</td>\n",
       "      <td>-10.00</td>\n",
       "      <td>-0.72</td>\n",
       "      <td>-5.31e-01</td>\n",
       "      <td>-4.40e-01</td>\n",
       "      <td>-4.07e-01</td>\n",
       "      <td>0.00</td>\n",
       "      <td>-2.22</td>\n",
       "      <td>-1.29</td>\n",
       "      <td>-5.43e-02</td>\n",
       "      <td>1.71</td>\n",
       "      <td>0.00</td>\n",
       "    </tr>\n",
       "    <tr>\n",
       "      <td>50%</td>\n",
       "      <td>2.15</td>\n",
       "      <td>13.00</td>\n",
       "      <td>9.00</td>\n",
       "      <td>22.00</td>\n",
       "      <td>11.00</td>\n",
       "      <td>12.00</td>\n",
       "      <td>9.00</td>\n",
       "      <td>9.00</td>\n",
       "      <td>13.00</td>\n",
       "      <td>1.00</td>\n",
       "      <td>-2.00</td>\n",
       "      <td>-1.00</td>\n",
       "      <td>2.91</td>\n",
       "      <td>2.76</td>\n",
       "      <td>10.54</td>\n",
       "      <td>4.68</td>\n",
       "      <td>1.08</td>\n",
       "      <td>1.16</td>\n",
       "      <td>0.07</td>\n",
       "      <td>6.41e-03</td>\n",
       "      <td>0.48</td>\n",
       "      <td>3.50</td>\n",
       "      <td>14.00</td>\n",
       "      <td>8.00</td>\n",
       "      <td>22.00</td>\n",
       "      <td>11.00</td>\n",
       "      <td>13.00</td>\n",
       "      <td>10.00</td>\n",
       "      <td>9.00</td>\n",
       "      <td>12.00</td>\n",
       "      <td>1.00</td>\n",
       "      <td>-2.00</td>\n",
       "      <td>-1.00</td>\n",
       "      <td>2.93</td>\n",
       "      <td>2.77</td>\n",
       "      <td>4.79</td>\n",
       "      <td>1.11</td>\n",
       "      <td>1.13</td>\n",
       "      <td>0.07</td>\n",
       "      <td>6.31e-03</td>\n",
       "      <td>0.48</td>\n",
       "      <td>3.50</td>\n",
       "      <td>1.90</td>\n",
       "      <td>1.00</td>\n",
       "      <td>1.00</td>\n",
       "      <td>2.00</td>\n",
       "      <td>0.00</td>\n",
       "      <td>0.0</td>\n",
       "      <td>0.00</td>\n",
       "      <td>0.0</td>\n",
       "      <td>2.01</td>\n",
       "      <td>3.00</td>\n",
       "      <td>-3.00</td>\n",
       "      <td>0.00</td>\n",
       "      <td>0.00</td>\n",
       "      <td>0.00</td>\n",
       "      <td>0.00</td>\n",
       "      <td>0.00</td>\n",
       "      <td>4.00</td>\n",
       "      <td>-4.00</td>\n",
       "      <td>0.00</td>\n",
       "      <td>0.00</td>\n",
       "      <td>0.00e+00</td>\n",
       "      <td>0.00e+00</td>\n",
       "      <td>1.07e-03</td>\n",
       "      <td>0.00</td>\n",
       "      <td>-0.12</td>\n",
       "      <td>-0.01</td>\n",
       "      <td>0.00e+00</td>\n",
       "      <td>1.85</td>\n",
       "      <td>1.00</td>\n",
       "    </tr>\n",
       "    <tr>\n",
       "      <td>75%</td>\n",
       "      <td>2.80</td>\n",
       "      <td>21.00</td>\n",
       "      <td>15.00</td>\n",
       "      <td>36.00</td>\n",
       "      <td>16.00</td>\n",
       "      <td>20.00</td>\n",
       "      <td>15.00</td>\n",
       "      <td>16.00</td>\n",
       "      <td>21.00</td>\n",
       "      <td>7.00</td>\n",
       "      <td>1.00</td>\n",
       "      <td>5.00</td>\n",
       "      <td>3.76</td>\n",
       "      <td>3.49</td>\n",
       "      <td>12.50</td>\n",
       "      <td>6.07</td>\n",
       "      <td>1.47</td>\n",
       "      <td>1.53</td>\n",
       "      <td>0.31</td>\n",
       "      <td>2.93e-02</td>\n",
       "      <td>0.55</td>\n",
       "      <td>5.50</td>\n",
       "      <td>22.00</td>\n",
       "      <td>15.00</td>\n",
       "      <td>36.00</td>\n",
       "      <td>16.00</td>\n",
       "      <td>20.00</td>\n",
       "      <td>16.00</td>\n",
       "      <td>15.00</td>\n",
       "      <td>20.00</td>\n",
       "      <td>7.00</td>\n",
       "      <td>1.00</td>\n",
       "      <td>6.00</td>\n",
       "      <td>3.78</td>\n",
       "      <td>3.50</td>\n",
       "      <td>6.22</td>\n",
       "      <td>1.50</td>\n",
       "      <td>1.48</td>\n",
       "      <td>0.31</td>\n",
       "      <td>2.85e-02</td>\n",
       "      <td>0.55</td>\n",
       "      <td>4.00</td>\n",
       "      <td>2.04</td>\n",
       "      <td>4.00</td>\n",
       "      <td>4.00</td>\n",
       "      <td>6.00</td>\n",
       "      <td>0.00</td>\n",
       "      <td>0.0</td>\n",
       "      <td>0.00</td>\n",
       "      <td>0.0</td>\n",
       "      <td>2.98</td>\n",
       "      <td>9.00</td>\n",
       "      <td>1.00</td>\n",
       "      <td>6.00</td>\n",
       "      <td>3.00</td>\n",
       "      <td>3.00</td>\n",
       "      <td>3.00</td>\n",
       "      <td>4.00</td>\n",
       "      <td>13.00</td>\n",
       "      <td>1.00</td>\n",
       "      <td>10.00</td>\n",
       "      <td>0.65</td>\n",
       "      <td>4.91e-01</td>\n",
       "      <td>4.11e-01</td>\n",
       "      <td>4.50e-01</td>\n",
       "      <td>0.00</td>\n",
       "      <td>1.81</td>\n",
       "      <td>1.04</td>\n",
       "      <td>5.48e-02</td>\n",
       "      <td>2.02</td>\n",
       "      <td>2.00</td>\n",
       "    </tr>\n",
       "    <tr>\n",
       "      <td>max</td>\n",
       "      <td>23.00</td>\n",
       "      <td>52.00</td>\n",
       "      <td>47.00</td>\n",
       "      <td>94.00</td>\n",
       "      <td>20.00</td>\n",
       "      <td>61.00</td>\n",
       "      <td>43.00</td>\n",
       "      <td>48.00</td>\n",
       "      <td>52.00</td>\n",
       "      <td>48.00</td>\n",
       "      <td>31.00</td>\n",
       "      <td>76.00</td>\n",
       "      <td>5.00</td>\n",
       "      <td>4.99</td>\n",
       "      <td>20.50</td>\n",
       "      <td>12.52</td>\n",
       "      <td>3.72</td>\n",
       "      <td>3.19</td>\n",
       "      <td>1.00</td>\n",
       "      <td>1.00e+00</td>\n",
       "      <td>1.00</td>\n",
       "      <td>41.00</td>\n",
       "      <td>55.00</td>\n",
       "      <td>47.00</td>\n",
       "      <td>97.00</td>\n",
       "      <td>20.00</td>\n",
       "      <td>61.00</td>\n",
       "      <td>43.00</td>\n",
       "      <td>45.00</td>\n",
       "      <td>50.00</td>\n",
       "      <td>47.00</td>\n",
       "      <td>31.00</td>\n",
       "      <td>78.00</td>\n",
       "      <td>5.00</td>\n",
       "      <td>5.00</td>\n",
       "      <td>13.43</td>\n",
       "      <td>3.72</td>\n",
       "      <td>3.20</td>\n",
       "      <td>1.00</td>\n",
       "      <td>1.00e+00</td>\n",
       "      <td>1.00</td>\n",
       "      <td>19.00</td>\n",
       "      <td>2.91</td>\n",
       "      <td>13.00</td>\n",
       "      <td>13.00</td>\n",
       "      <td>18.00</td>\n",
       "      <td>1.00</td>\n",
       "      <td>1.0</td>\n",
       "      <td>1.00</td>\n",
       "      <td>1.0</td>\n",
       "      <td>5.33</td>\n",
       "      <td>41.00</td>\n",
       "      <td>33.00</td>\n",
       "      <td>74.00</td>\n",
       "      <td>38.00</td>\n",
       "      <td>23.00</td>\n",
       "      <td>34.00</td>\n",
       "      <td>36.00</td>\n",
       "      <td>75.00</td>\n",
       "      <td>42.00</td>\n",
       "      <td>108.00</td>\n",
       "      <td>4.82</td>\n",
       "      <td>4.40e+00</td>\n",
       "      <td>2.99e+00</td>\n",
       "      <td>2.83e+00</td>\n",
       "      <td>2.00</td>\n",
       "      <td>12.56</td>\n",
       "      <td>8.21</td>\n",
       "      <td>6.67e-01</td>\n",
       "      <td>4.33</td>\n",
       "      <td>2.00</td>\n",
       "    </tr>\n",
       "  </tbody>\n",
       "</table>\n",
       "</div>"
      ],
      "text/plain": [
       "          g1_1     g1_2     g1_3     g1_4     g1_5     g1_6     g1_7     g1_8     g1_9    g1_10  \\\n",
       "count  6620.00  6620.00  6620.00  6620.00  6620.00  6620.00  6620.00  6620.00  6620.00  6620.00   \n",
       "mean      2.71    14.42    10.49    24.91    10.99    13.41    10.16    10.75    14.17     3.25   \n",
       "std       1.86    10.70     8.38    18.17     5.64    10.09     7.50     7.96     9.87     8.48   \n",
       "min       1.05     0.00     0.00     0.00     1.00     0.00     0.00     0.00     0.00   -27.00   \n",
       "25%       1.67     6.00     4.00    10.00     6.00     5.00     4.00     4.00     6.00    -2.00   \n",
       "50%       2.15    13.00     9.00    22.00    11.00    12.00     9.00     9.00    13.00     1.00   \n",
       "75%       2.80    21.00    15.00    36.00    16.00    20.00    15.00    16.00    21.00     7.00   \n",
       "max      23.00    52.00    47.00    94.00    20.00    61.00    43.00    48.00    52.00    48.00   \n",
       "\n",
       "         g1_11    g1_12    g1_13    g1_14    g1_15    g1_16    g1_17    g1_18    g1_19     g1_20  \\\n",
       "count  6620.00  6620.00  6620.00  6620.00  6620.00  6620.00  6620.00  6620.00  6620.00  6.62e+03   \n",
       "mean     -3.42    -0.17     3.15     3.04    10.27     4.74     1.12     1.16     0.21  5.89e-02   \n",
       "std       8.58    15.04     0.93     0.83     3.76     2.13     0.58     0.57     0.27  1.52e-01   \n",
       "min     -38.00   -65.00     0.00     0.17     0.00     0.00     0.00     0.00     0.00  0.00e+00   \n",
       "25%      -8.00    -8.25     2.50     2.49     8.51     3.39     0.74     0.78     0.01  1.83e-03   \n",
       "50%      -2.00    -1.00     2.91     2.76    10.54     4.68     1.08     1.16     0.07  6.41e-03   \n",
       "75%       1.00     5.00     3.76     3.49    12.50     6.07     1.47     1.53     0.31  2.93e-02   \n",
       "max      31.00    76.00     5.00     4.99    20.50    12.52     3.72     3.19     1.00  1.00e+00   \n",
       "\n",
       "         g1_21     g2_1     g2_2     g2_3     g2_4     g2_5     g2_6     g2_7     g2_8     g2_9  \\\n",
       "count  6620.00  6620.00  6620.00  6620.00  6620.00  6620.00  6620.00  6620.00  6620.00  6620.00   \n",
       "mean      0.45     4.81    15.11    10.02    25.13    11.03    14.04    10.63    10.25    13.50   \n",
       "std       0.14     3.94    10.84     8.25    18.19     5.67    10.21     7.56     7.83     9.72   \n",
       "min       0.00     0.95     0.00     0.00     0.00     1.00     0.00     0.00     0.00     0.00   \n",
       "25%       0.35     2.50     6.00     3.00    11.00     6.00     6.00     4.00     4.00     5.00   \n",
       "50%       0.48     3.50    14.00     8.00    22.00    11.00    13.00    10.00     9.00    12.00   \n",
       "75%       0.55     5.50    22.00    15.00    36.00    16.00    20.00    16.00    15.00    20.00   \n",
       "max       1.00    41.00    55.00    47.00    97.00    20.00    61.00    43.00    45.00    50.00   \n",
       "\n",
       "         g2_10    g2_11    g2_12    g2_13    g2_14    g2_15    g2_16    g2_17    g2_18     g2_19  \\\n",
       "count  6620.00  6620.00  6620.00  6620.00  6620.00  6620.00  6620.00  6620.00  6620.00  6.62e+03   \n",
       "mean      3.41    -3.25     0.16     3.18     3.05     4.84     1.15     1.13     0.21  5.82e-02   \n",
       "std       8.75     8.31    15.03     0.93     0.82     2.15     0.59     0.55     0.27  1.51e-01   \n",
       "min     -27.00   -36.00   -63.00     0.00     0.22     0.00     0.00     0.00     0.00  0.00e+00   \n",
       "25%      -2.00    -8.00    -8.00     2.50     2.50     3.47     0.76     0.76     0.01  1.83e-03   \n",
       "50%       1.00    -2.00    -1.00     2.93     2.77     4.79     1.11     1.13     0.07  6.31e-03   \n",
       "75%       7.00     1.00     6.00     3.78     3.50     6.22     1.50     1.48     0.31  2.85e-02   \n",
       "max      47.00    31.00    78.00     5.00     5.00    13.43     3.72     3.20     1.00  1.00e+00   \n",
       "\n",
       "         g2_20    g2_21      c_1      c_2      c_3      c_4      c_5     c_6      c_7     c_8  \\\n",
       "count  6620.00  6620.00  6620.00  6620.00  6620.00  6620.00  6620.00  6620.0  6620.00  6620.0   \n",
       "mean      0.45     3.90     1.89     1.56     1.56     3.12     0.18     0.2     0.18     0.2   \n",
       "std       0.14     1.09     0.23     4.06     4.06     3.94     0.39     0.4     0.39     0.4   \n",
       "min       0.00     2.50     0.00   -10.00   -10.00    -6.00     0.00     0.0     0.00     0.0   \n",
       "25%       0.35     3.25     1.74    -1.00    -1.00     0.00     0.00     0.0     0.00     0.0   \n",
       "50%       0.48     3.50     1.90     1.00     1.00     2.00     0.00     0.0     0.00     0.0   \n",
       "75%       0.55     4.00     2.04     4.00     4.00     6.00     0.00     0.0     0.00     0.0   \n",
       "max       1.00    19.00     2.91    13.00    13.00    18.00     1.00     1.0     1.00     1.0   \n",
       "\n",
       "           c_9     c_10     c_11     c_12     c_13     c_14     c_15     c_16     c_17     c_18  \\\n",
       "count  6620.00  6620.00  6620.00  6620.00  6620.00  6620.00  6620.00  6620.00  6620.00  6620.00   \n",
       "mean      1.95     4.41    -4.63    -0.22    -0.09    -0.09     0.11     0.13     6.50    -6.83   \n",
       "std       1.22     8.50     9.09    14.47     7.47     6.38     6.34     7.42    12.18    12.97   \n",
       "min       0.00   -28.00   -47.00   -63.00   -33.00   -29.00   -28.00   -40.00   -39.00   -74.00   \n",
       "25%       0.90     0.00    -9.00    -7.00    -4.00    -3.00    -3.00    -3.00    -1.00   -13.00   \n",
       "50%       2.01     3.00    -3.00     0.00     0.00     0.00     0.00     0.00     4.00    -4.00   \n",
       "75%       2.98     9.00     1.00     6.00     3.00     3.00     3.00     4.00    13.00     1.00   \n",
       "max       5.33    41.00    33.00    74.00    38.00    23.00    34.00    36.00    75.00    42.00   \n",
       "\n",
       "          c_19     c_20      c_21      c_22      c_23     c_24     c_25     c_26      c_27  \\\n",
       "count  6620.00  6620.00  6.62e+03  6.62e+03  6.62e+03  6620.00  6620.00  6620.00  6.62e+03   \n",
       "mean     -0.33    -0.03 -6.72e-03 -4.15e-03  8.83e-03     0.00    -0.23    -0.10  4.08e-04   \n",
       "std      21.50     1.22  1.07e+00  6.63e-01  6.83e-01     0.32     3.39     1.94  9.28e-02   \n",
       "min    -101.00    -4.68 -4.32e+00 -2.51e+00 -3.12e+00    -2.00   -15.20    -9.18 -7.50e-01   \n",
       "25%     -10.00    -0.72 -5.31e-01 -4.40e-01 -4.07e-01     0.00    -2.22    -1.29 -5.43e-02   \n",
       "50%       0.00     0.00  0.00e+00  0.00e+00  1.07e-03     0.00    -0.12    -0.01  0.00e+00   \n",
       "75%      10.00     0.65  4.91e-01  4.11e-01  4.50e-01     0.00     1.81     1.04  5.48e-02   \n",
       "max     108.00     4.82  4.40e+00  2.99e+00  2.83e+00     2.00    12.56     8.21  6.67e-01   \n",
       "\n",
       "          c_28   target  \n",
       "count  6620.00  6620.00  \n",
       "mean      1.92     1.03  \n",
       "std       0.30     0.73  \n",
       "min       0.00     0.00  \n",
       "25%       1.71     0.00  \n",
       "50%       1.85     1.00  \n",
       "75%       2.02     2.00  \n",
       "max       4.33     2.00  "
      ]
     },
     "execution_count": 6,
     "metadata": {},
     "output_type": "execute_result"
    }
   ],
   "source": [
    "dataFrame.describe()"
   ]
  },
  {
   "cell_type": "markdown",
   "metadata": {},
   "source": [
    "# EDA - Analisis"
   ]
  },
  {
   "cell_type": "markdown",
   "metadata": {},
   "source": [
    "Las columnas que representan las caracteristicas de cada grupos, no tienen un nombre\n",
    "descriptivo y no se especifica su significado mas ayá de una calificación, por lo que resulta\n",
    "dificil, mostrar una relacion grafica que aporte significado entre cada columna y la variable\n",
    "objetivo (\"Target\").\n",
    "***\n",
    "Por otro lado si tenemos el significado de la variable o columa \"Target\" que representa:\n",
    "\n",
    "* VALOR 0: Ningun grupo fue rentable\n",
    "* VALOR 1: Grupo 1 fue rentable\n",
    "* VALOR 2: Grupo 2 fue rentable \n",
    "***\n",
    "Con esta informacion podemos representar graficamente la distribucion de los datos en relacion a\n",
    "la variable objetivo.\n",
    "\n",
    "\n",
    "\n",
    "\n"
   ]
  },
  {
   "cell_type": "code",
   "execution_count": 7,
   "metadata": {},
   "outputs": [],
   "source": [
    "EDA_DATA = pd.DataFrame()\n",
    "EDA_DATA =  dataFrame.copy()"
   ]
  },
  {
   "cell_type": "markdown",
   "metadata": {},
   "source": [
    "## Rentabilidad de los grupos"
   ]
  },
  {
   "cell_type": "markdown",
   "metadata": {},
   "source": [
    "***\n",
    "> Hacemos un mapeo de la variable [target ] para identificar\n",
    "> visualmente la rentabilidad de los grupos de mercado\n",
    "***"
   ]
  },
  {
   "cell_type": "code",
   "execution_count": 8,
   "metadata": {},
   "outputs": [],
   "source": [
    "EDA_DATA[\"CLASIFICACION1\"] = EDA_DATA['target'].map({0:'NINGUNO', 1:'GRUPO#1', 2:'GRUPO#2'})\n",
    "EDA_DATA[\"CLASIFICACION2\"] = EDA_DATA['target'].map({0:'NO RENTABLE', 1:'RENTABLE', 2:'RENTABLE'})"
   ]
  },
  {
   "cell_type": "code",
   "execution_count": 9,
   "metadata": {
    "scrolled": false
   },
   "outputs": [
    {
     "data": {
      "image/png": "[encoded data removed]",
      "text/plain": [
       "<Figure size 864x576 with 1 Axes>"
      ]
     },
     "metadata": {
      "needs_background": "light"
     },
     "output_type": "display_data"
    }
   ],
   "source": [
    "ncount = len(EDA_DATA)\n",
    "\n",
    "plt.figure(figsize=(12,8))\n",
    "ax = sns.countplot(x=\"CLASIFICACION1\", data=EDA_DATA)\n",
    "plt.title('Rentabilida segmentos de mercado')\n",
    "plt.xlabel('Rentablidad')\n",
    "\n",
    "for p in ax.patches:\n",
    "    x=p.get_bbox().get_points()[:,0]\n",
    "    y=p.get_bbox().get_points()[1,1]\n",
    "    ax.annotate('{:.1f}% '.format(100.*y/ncount) + '({:}) '.format(p.get_height()), (x.mean(), y), \n",
    "            ha='center', va='bottom')"
   ]
  },
  {
   "cell_type": "markdown",
   "metadata": {},
   "source": [
    "***\n",
    "> Como podemos observar las campañas comerciales fueron mas rentables con el GRUPO#1 con un 46.5%\n",
    "> El 25.2% de las campañas resultaron ser no rentables en ningun grupo, que es casi el mismo \n",
    "> porcentaje donde el segundo grupo resulta ser rentable\n",
    "***"
   ]
  },
  {
   "cell_type": "code",
   "execution_count": 10,
   "metadata": {},
   "outputs": [
    {
     "data": {
      "image/png": "[encoded data removed]",
      "text/plain": [
       "<Figure size 864x576 with 1 Axes>"
      ]
     },
     "metadata": {
      "needs_background": "light"
     },
     "output_type": "display_data"
    }
   ],
   "source": [
    "ncount = len(EDA_DATA)\n",
    "\n",
    "plt.figure(figsize=(12,8))\n",
    "ax = sns.countplot(x=\"CLASIFICACION2\", data=EDA_DATA)\n",
    "plt.title('Rentabilida segmentos de mercado')\n",
    "plt.xlabel('Rentablidad')\n",
    "\n",
    "for p in ax.patches:\n",
    "    x=p.get_bbox().get_points()[:,0]\n",
    "    y=p.get_bbox().get_points()[1,1]\n",
    "    ax.annotate('{:.1f}% '.format(100.*y/ncount) + '({:}) '.format(p.get_height()), (x.mean(), y), \n",
    "            ha='center', va='bottom')"
   ]
  },
  {
   "cell_type": "markdown",
   "metadata": {},
   "source": [
    "***\n",
    "> Podemos identificar tambien que el 74.8% de las campañas comerciales resultaron ser rentables\n",
    "***"
   ]
  },
  {
   "cell_type": "markdown",
   "metadata": {},
   "source": [
    "# Observaciones y concluciones [EDA]"
   ]
  },
  {
   "cell_type": "markdown",
   "metadata": {},
   "source": [
    "***\n",
    "> Se recomienda definir un nombre mas significativo a las variables que caracterizan a los grupos\n",
    "> para poder inferir resultados por medio de observacion mas facilmente.\n",
    "***"
   ]
  },
  {
   "cell_type": "markdown",
   "metadata": {},
   "source": [
    "# Limpiando y procesando datos"
   ]
  },
  {
   "cell_type": "markdown",
   "metadata": {},
   "source": [
    "***\n",
    "> Los datos actuales cuentan con un total de 70 caraceristicas y una variable objetivo\n",
    "> las primeras 21 carcteristicas pertenecen a l GRUPO#1 y las siguientes 21 al GRUPO#2.\n",
    "> Las ultimas 29 caracteristicas representan una compracion entre los 2 grupos, por lo\n",
    "> tanto este analisis se va a enfocar en los grupos y sus caracteristicas unicas contra\n",
    "> la variable objetivo.\n",
    "***"
   ]
  },
  {
   "cell_type": "markdown",
   "metadata": {},
   "source": [
    "### Limpiamdo datos"
   ]
  },
  {
   "cell_type": "markdown",
   "metadata": {},
   "source": [
    "***\n",
    "> Separamos las caracteristicas de cada grupo\n",
    "***"
   ]
  },
  {
   "cell_type": "code",
   "execution_count": 11,
   "metadata": {},
   "outputs": [],
   "source": [
    "PARA_GRAFICOS = pd.DataFrame()\n",
    "PARA_GRAFICOS =  dataFrame.copy()"
   ]
  },
  {
   "cell_type": "code",
   "execution_count": 12,
   "metadata": {},
   "outputs": [],
   "source": [
    "GRUPO1 = PARA_GRAFICOS.iloc[:, 0:21]\n",
    "GRUPO2 = PARA_GRAFICOS.iloc[:, 21:42]\n",
    "TARGET = PARA_GRAFICOS.iloc[:, -1]"
   ]
  },
  {
   "cell_type": "code",
   "execution_count": 13,
   "metadata": {},
   "outputs": [],
   "source": [
    "GRUPO2['GRUPO'] = '2'\n",
    "GRUPO1['GRUPO'] = '1'"
   ]
  },
  {
   "cell_type": "markdown",
   "metadata": {},
   "source": [
    "***\n",
    "> ecodificamos el target\n",
    "***"
   ]
  },
  {
   "cell_type": "code",
   "execution_count": 14,
   "metadata": {},
   "outputs": [],
   "source": [
    "GRUPO1['TARGET'] = TARGET\n",
    "GRUPO1['TARGET'] = np.where(GRUPO1['TARGET'] == 1, 1, 0)\n",
    "\n",
    "GRUPO2['TARGET'] = TARGET\n",
    "GRUPO2['TARGET']  = np.where(GRUPO2['TARGET'] == 2, 1, 0)\n"
   ]
  },
  {
   "cell_type": "markdown",
   "metadata": {},
   "source": [
    "***\n",
    "> Recodificamos los nombres de las variables para unificar\n",
    "***"
   ]
  },
  {
   "cell_type": "code",
   "execution_count": 15,
   "metadata": {},
   "outputs": [],
   "source": [
    "for CTR in (GRUPO1.filter(regex='^g1_\\d+')) :\n",
    "    GRUPO1.rename(columns={CTR: \"FEATURE\" + str(GRUPO1.columns.get_loc(CTR) + 1) },  inplace=True)"
   ]
  },
  {
   "cell_type": "code",
   "execution_count": 16,
   "metadata": {},
   "outputs": [],
   "source": [
    "GRUPO1['ID'] = np.arange(len(GRUPO1)) + 1 \n",
    "for ID in (GRUPO1['ID']) :\n",
    "    GRUPO1.loc[ID - 1 , 'CAMPAÑA'] = str(ID)"
   ]
  },
  {
   "cell_type": "code",
   "execution_count": 17,
   "metadata": {},
   "outputs": [],
   "source": [
    "for CTR in (GRUPO2.filter(regex='^g2_\\d+')) :\n",
    "    GRUPO2.rename(columns={CTR: \"FEATURE\" + str(GRUPO2.columns.get_loc(CTR) + 1) },  inplace=True)"
   ]
  },
  {
   "cell_type": "code",
   "execution_count": 18,
   "metadata": {},
   "outputs": [],
   "source": [
    "GRUPO2['ID'] = np.arange(len(GRUPO2)) + 1 \n",
    "for ID in (GRUPO2['ID']) :\n",
    "    GRUPO2.loc[ID - 1, 'CAMPAÑA'] = str(ID)"
   ]
  },
  {
   "cell_type": "code",
   "execution_count": 19,
   "metadata": {
    "scrolled": false
   },
   "outputs": [
    {
     "data": {
      "text/html": [
       "<div>\n",
       "<style scoped>\n",
       "    .dataframe tbody tr th:only-of-type {\n",
       "        vertical-align: middle;\n",
       "    }\n",
       "\n",
       "    .dataframe tbody tr th {\n",
       "        vertical-align: top;\n",
       "    }\n",
       "\n",
       "    .dataframe thead th {\n",
       "        text-align: right;\n",
       "    }\n",
       "</style>\n",
       "<table border=\"1\" class=\"dataframe\">\n",
       "  <thead>\n",
       "    <tr style=\"text-align: right;\">\n",
       "      <th></th>\n",
       "      <th>FEATURE1</th>\n",
       "      <th>FEATURE2</th>\n",
       "      <th>FEATURE3</th>\n",
       "      <th>FEATURE4</th>\n",
       "      <th>FEATURE5</th>\n",
       "      <th>FEATURE6</th>\n",
       "      <th>FEATURE7</th>\n",
       "      <th>FEATURE8</th>\n",
       "      <th>FEATURE9</th>\n",
       "      <th>FEATURE10</th>\n",
       "      <th>FEATURE11</th>\n",
       "      <th>FEATURE12</th>\n",
       "      <th>FEATURE13</th>\n",
       "      <th>FEATURE14</th>\n",
       "      <th>FEATURE15</th>\n",
       "      <th>FEATURE16</th>\n",
       "      <th>FEATURE17</th>\n",
       "      <th>FEATURE18</th>\n",
       "      <th>FEATURE19</th>\n",
       "      <th>FEATURE20</th>\n",
       "      <th>FEATURE21</th>\n",
       "      <th>GRUPO</th>\n",
       "      <th>TARGET</th>\n",
       "      <th>ID</th>\n",
       "      <th>CAMPAÑA</th>\n",
       "    </tr>\n",
       "  </thead>\n",
       "  <tbody>\n",
       "    <tr>\n",
       "      <td>0</td>\n",
       "      <td>4.50</td>\n",
       "      <td>1</td>\n",
       "      <td>3</td>\n",
       "      <td>4</td>\n",
       "      <td>5</td>\n",
       "      <td>1</td>\n",
       "      <td>1</td>\n",
       "      <td>4</td>\n",
       "      <td>6</td>\n",
       "      <td>0</td>\n",
       "      <td>-2</td>\n",
       "      <td>-2</td>\n",
       "      <td>2.51</td>\n",
       "      <td>2.55</td>\n",
       "      <td>6.24</td>\n",
       "      <td>3.61</td>\n",
       "      <td>0.74</td>\n",
       "      <td>1.22</td>\n",
       "      <td>3.08e-03</td>\n",
       "      <td>3.03e-03</td>\n",
       "      <td>0.58</td>\n",
       "      <td>1</td>\n",
       "      <td>0</td>\n",
       "      <td>1</td>\n",
       "      <td>1</td>\n",
       "    </tr>\n",
       "    <tr>\n",
       "      <td>1</td>\n",
       "      <td>2.20</td>\n",
       "      <td>24</td>\n",
       "      <td>22</td>\n",
       "      <td>46</td>\n",
       "      <td>10</td>\n",
       "      <td>24</td>\n",
       "      <td>28</td>\n",
       "      <td>18</td>\n",
       "      <td>22</td>\n",
       "      <td>-4</td>\n",
       "      <td>-4</td>\n",
       "      <td>-8</td>\n",
       "      <td>3.72</td>\n",
       "      <td>3.88</td>\n",
       "      <td>7.42</td>\n",
       "      <td>5.05</td>\n",
       "      <td>0.84</td>\n",
       "      <td>1.98</td>\n",
       "      <td>7.85e-01</td>\n",
       "      <td>1.94e-02</td>\n",
       "      <td>0.68</td>\n",
       "      <td>1</td>\n",
       "      <td>1</td>\n",
       "      <td>2</td>\n",
       "      <td>2</td>\n",
       "    </tr>\n",
       "    <tr>\n",
       "      <td>2</td>\n",
       "      <td>12.00</td>\n",
       "      <td>7</td>\n",
       "      <td>4</td>\n",
       "      <td>11</td>\n",
       "      <td>18</td>\n",
       "      <td>8</td>\n",
       "      <td>11</td>\n",
       "      <td>2</td>\n",
       "      <td>10</td>\n",
       "      <td>-3</td>\n",
       "      <td>-8</td>\n",
       "      <td>-11</td>\n",
       "      <td>2.24</td>\n",
       "      <td>2.46</td>\n",
       "      <td>11.09</td>\n",
       "      <td>5.85</td>\n",
       "      <td>0.73</td>\n",
       "      <td>2.02</td>\n",
       "      <td>4.39e-02</td>\n",
       "      <td>1.43e-02</td>\n",
       "      <td>0.53</td>\n",
       "      <td>1</td>\n",
       "      <td>0</td>\n",
       "      <td>3</td>\n",
       "      <td>3</td>\n",
       "    </tr>\n",
       "    <tr>\n",
       "      <td>3</td>\n",
       "      <td>1.91</td>\n",
       "      <td>8</td>\n",
       "      <td>5</td>\n",
       "      <td>13</td>\n",
       "      <td>14</td>\n",
       "      <td>6</td>\n",
       "      <td>7</td>\n",
       "      <td>6</td>\n",
       "      <td>9</td>\n",
       "      <td>-1</td>\n",
       "      <td>-3</td>\n",
       "      <td>-4</td>\n",
       "      <td>2.58</td>\n",
       "      <td>2.68</td>\n",
       "      <td>9.86</td>\n",
       "      <td>2.58</td>\n",
       "      <td>0.66</td>\n",
       "      <td>1.41</td>\n",
       "      <td>4.16e-02</td>\n",
       "      <td>2.14e-02</td>\n",
       "      <td>0.26</td>\n",
       "      <td>1</td>\n",
       "      <td>0</td>\n",
       "      <td>4</td>\n",
       "      <td>4</td>\n",
       "    </tr>\n",
       "    <tr>\n",
       "      <td>4</td>\n",
       "      <td>2.50</td>\n",
       "      <td>23</td>\n",
       "      <td>16</td>\n",
       "      <td>39</td>\n",
       "      <td>14</td>\n",
       "      <td>33</td>\n",
       "      <td>25</td>\n",
       "      <td>18</td>\n",
       "      <td>27</td>\n",
       "      <td>8</td>\n",
       "      <td>-9</td>\n",
       "      <td>-1</td>\n",
       "      <td>3.47</td>\n",
       "      <td>3.06</td>\n",
       "      <td>11.67</td>\n",
       "      <td>4.55</td>\n",
       "      <td>1.90</td>\n",
       "      <td>1.24</td>\n",
       "      <td>9.41e-01</td>\n",
       "      <td>6.22e-05</td>\n",
       "      <td>0.39</td>\n",
       "      <td>1</td>\n",
       "      <td>0</td>\n",
       "      <td>5</td>\n",
       "      <td>5</td>\n",
       "    </tr>\n",
       "  </tbody>\n",
       "</table>\n",
       "</div>"
      ],
      "text/plain": [
       "   FEATURE1  FEATURE2  FEATURE3  FEATURE4  FEATURE5  FEATURE6  FEATURE7  FEATURE8  FEATURE9  \\\n",
       "0      4.50         1         3         4         5         1         1         4         6   \n",
       "1      2.20        24        22        46        10        24        28        18        22   \n",
       "2     12.00         7         4        11        18         8        11         2        10   \n",
       "3      1.91         8         5        13        14         6         7         6         9   \n",
       "4      2.50        23        16        39        14        33        25        18        27   \n",
       "\n",
       "   FEATURE10  FEATURE11  FEATURE12  FEATURE13  FEATURE14  FEATURE15  FEATURE16  FEATURE17  \\\n",
       "0          0         -2         -2       2.51       2.55       6.24       3.61       0.74   \n",
       "1         -4         -4         -8       3.72       3.88       7.42       5.05       0.84   \n",
       "2         -3         -8        -11       2.24       2.46      11.09       5.85       0.73   \n",
       "3         -1         -3         -4       2.58       2.68       9.86       2.58       0.66   \n",
       "4          8         -9         -1       3.47       3.06      11.67       4.55       1.90   \n",
       "\n",
       "   FEATURE18  FEATURE19  FEATURE20  FEATURE21 GRUPO  TARGET  ID CAMPAÑA  \n",
       "0       1.22   3.08e-03   3.03e-03       0.58     1       0   1       1  \n",
       "1       1.98   7.85e-01   1.94e-02       0.68     1       1   2       2  \n",
       "2       2.02   4.39e-02   1.43e-02       0.53     1       0   3       3  \n",
       "3       1.41   4.16e-02   2.14e-02       0.26     1       0   4       4  \n",
       "4       1.24   9.41e-01   6.22e-05       0.39     1       0   5       5  "
      ]
     },
     "execution_count": 19,
     "metadata": {},
     "output_type": "execute_result"
    }
   ],
   "source": [
    "GRUPO1.head()"
   ]
  },
  {
   "cell_type": "code",
   "execution_count": 20,
   "metadata": {
    "scrolled": false
   },
   "outputs": [
    {
     "data": {
      "text/html": [
       "<div>\n",
       "<style scoped>\n",
       "    .dataframe tbody tr th:only-of-type {\n",
       "        vertical-align: middle;\n",
       "    }\n",
       "\n",
       "    .dataframe tbody tr th {\n",
       "        vertical-align: top;\n",
       "    }\n",
       "\n",
       "    .dataframe thead th {\n",
       "        text-align: right;\n",
       "    }\n",
       "</style>\n",
       "<table border=\"1\" class=\"dataframe\">\n",
       "  <thead>\n",
       "    <tr style=\"text-align: right;\">\n",
       "      <th></th>\n",
       "      <th>FEATURE1</th>\n",
       "      <th>FEATURE2</th>\n",
       "      <th>FEATURE3</th>\n",
       "      <th>FEATURE4</th>\n",
       "      <th>FEATURE5</th>\n",
       "      <th>FEATURE6</th>\n",
       "      <th>FEATURE7</th>\n",
       "      <th>FEATURE8</th>\n",
       "      <th>FEATURE9</th>\n",
       "      <th>FEATURE10</th>\n",
       "      <th>FEATURE11</th>\n",
       "      <th>FEATURE12</th>\n",
       "      <th>FEATURE13</th>\n",
       "      <th>FEATURE14</th>\n",
       "      <th>FEATURE15</th>\n",
       "      <th>FEATURE16</th>\n",
       "      <th>FEATURE17</th>\n",
       "      <th>FEATURE18</th>\n",
       "      <th>FEATURE19</th>\n",
       "      <th>FEATURE20</th>\n",
       "      <th>FEATURE21</th>\n",
       "      <th>GRUPO</th>\n",
       "      <th>TARGET</th>\n",
       "      <th>ID</th>\n",
       "      <th>CAMPAÑA</th>\n",
       "    </tr>\n",
       "  </thead>\n",
       "  <tbody>\n",
       "    <tr>\n",
       "      <td>0</td>\n",
       "      <td>1.83</td>\n",
       "      <td>6</td>\n",
       "      <td>0</td>\n",
       "      <td>6</td>\n",
       "      <td>7</td>\n",
       "      <td>4</td>\n",
       "      <td>0</td>\n",
       "      <td>0</td>\n",
       "      <td>1</td>\n",
       "      <td>4</td>\n",
       "      <td>-1</td>\n",
       "      <td>3</td>\n",
       "      <td>2.89</td>\n",
       "      <td>2.62</td>\n",
       "      <td>5.55</td>\n",
       "      <td>0.73</td>\n",
       "      <td>0.16</td>\n",
       "      <td>2.99e-03</td>\n",
       "      <td>2.95e-03</td>\n",
       "      <td>0.59</td>\n",
       "      <td>3.50</td>\n",
       "      <td>2</td>\n",
       "      <td>1</td>\n",
       "      <td>1</td>\n",
       "      <td>1</td>\n",
       "    </tr>\n",
       "    <tr>\n",
       "      <td>1</td>\n",
       "      <td>2.80</td>\n",
       "      <td>34</td>\n",
       "      <td>14</td>\n",
       "      <td>48</td>\n",
       "      <td>10</td>\n",
       "      <td>25</td>\n",
       "      <td>16</td>\n",
       "      <td>16</td>\n",
       "      <td>24</td>\n",
       "      <td>9</td>\n",
       "      <td>-8</td>\n",
       "      <td>1</td>\n",
       "      <td>4.07</td>\n",
       "      <td>4.04</td>\n",
       "      <td>6.37</td>\n",
       "      <td>1.51</td>\n",
       "      <td>1.78</td>\n",
       "      <td>7.85e-01</td>\n",
       "      <td>3.34e-02</td>\n",
       "      <td>0.50</td>\n",
       "      <td>3.25</td>\n",
       "      <td>2</td>\n",
       "      <td>0</td>\n",
       "      <td>2</td>\n",
       "      <td>2</td>\n",
       "    </tr>\n",
       "    <tr>\n",
       "      <td>2</td>\n",
       "      <td>1.30</td>\n",
       "      <td>11</td>\n",
       "      <td>18</td>\n",
       "      <td>29</td>\n",
       "      <td>2</td>\n",
       "      <td>13</td>\n",
       "      <td>3</td>\n",
       "      <td>16</td>\n",
       "      <td>1</td>\n",
       "      <td>10</td>\n",
       "      <td>15</td>\n",
       "      <td>25</td>\n",
       "      <td>4.92</td>\n",
       "      <td>4.05</td>\n",
       "      <td>10.03</td>\n",
       "      <td>2.49</td>\n",
       "      <td>0.20</td>\n",
       "      <td>2.22e-02</td>\n",
       "      <td>4.20e-02</td>\n",
       "      <td>0.57</td>\n",
       "      <td>5.00</td>\n",
       "      <td>2</td>\n",
       "      <td>1</td>\n",
       "      <td>3</td>\n",
       "      <td>3</td>\n",
       "    </tr>\n",
       "    <tr>\n",
       "      <td>3</td>\n",
       "      <td>4.50</td>\n",
       "      <td>5</td>\n",
       "      <td>3</td>\n",
       "      <td>8</td>\n",
       "      <td>17</td>\n",
       "      <td>5</td>\n",
       "      <td>9</td>\n",
       "      <td>7</td>\n",
       "      <td>16</td>\n",
       "      <td>-4</td>\n",
       "      <td>-9</td>\n",
       "      <td>-13</td>\n",
       "      <td>1.96</td>\n",
       "      <td>2.28</td>\n",
       "      <td>3.37</td>\n",
       "      <td>0.67</td>\n",
       "      <td>2.16</td>\n",
       "      <td>4.39e-02</td>\n",
       "      <td>1.04e-02</td>\n",
       "      <td>0.27</td>\n",
       "      <td>3.60</td>\n",
       "      <td>2</td>\n",
       "      <td>0</td>\n",
       "      <td>4</td>\n",
       "      <td>4</td>\n",
       "    </tr>\n",
       "    <tr>\n",
       "      <td>4</td>\n",
       "      <td>3.00</td>\n",
       "      <td>29</td>\n",
       "      <td>23</td>\n",
       "      <td>52</td>\n",
       "      <td>8</td>\n",
       "      <td>31</td>\n",
       "      <td>22</td>\n",
       "      <td>21</td>\n",
       "      <td>23</td>\n",
       "      <td>9</td>\n",
       "      <td>-2</td>\n",
       "      <td>7</td>\n",
       "      <td>4.53</td>\n",
       "      <td>4.22</td>\n",
       "      <td>4.49</td>\n",
       "      <td>1.42</td>\n",
       "      <td>1.14</td>\n",
       "      <td>3.65e-01</td>\n",
       "      <td>8.15e-03</td>\n",
       "      <td>0.35</td>\n",
       "      <td>3.40</td>\n",
       "      <td>2</td>\n",
       "      <td>1</td>\n",
       "      <td>5</td>\n",
       "      <td>5</td>\n",
       "    </tr>\n",
       "  </tbody>\n",
       "</table>\n",
       "</div>"
      ],
      "text/plain": [
       "   FEATURE1  FEATURE2  FEATURE3  FEATURE4  FEATURE5  FEATURE6  FEATURE7  FEATURE8  FEATURE9  \\\n",
       "0      1.83         6         0         6         7         4         0         0         1   \n",
       "1      2.80        34        14        48        10        25        16        16        24   \n",
       "2      1.30        11        18        29         2        13         3        16         1   \n",
       "3      4.50         5         3         8        17         5         9         7        16   \n",
       "4      3.00        29        23        52         8        31        22        21        23   \n",
       "\n",
       "   FEATURE10  FEATURE11  FEATURE12  FEATURE13  FEATURE14  FEATURE15  FEATURE16  FEATURE17  \\\n",
       "0          4         -1          3       2.89       2.62       5.55       0.73       0.16   \n",
       "1          9         -8          1       4.07       4.04       6.37       1.51       1.78   \n",
       "2         10         15         25       4.92       4.05      10.03       2.49       0.20   \n",
       "3         -4         -9        -13       1.96       2.28       3.37       0.67       2.16   \n",
       "4          9         -2          7       4.53       4.22       4.49       1.42       1.14   \n",
       "\n",
       "   FEATURE18  FEATURE19  FEATURE20  FEATURE21 GRUPO  TARGET  ID CAMPAÑA  \n",
       "0   2.99e-03   2.95e-03       0.59       3.50     2       1   1       1  \n",
       "1   7.85e-01   3.34e-02       0.50       3.25     2       0   2       2  \n",
       "2   2.22e-02   4.20e-02       0.57       5.00     2       1   3       3  \n",
       "3   4.39e-02   1.04e-02       0.27       3.60     2       0   4       4  \n",
       "4   3.65e-01   8.15e-03       0.35       3.40     2       1   5       5  "
      ]
     },
     "execution_count": 20,
     "metadata": {},
     "output_type": "execute_result"
    }
   ],
   "source": [
    "GRUPO2.head()"
   ]
  },
  {
   "cell_type": "markdown",
   "metadata": {},
   "source": [
    "***\n",
    "> Genramos un único dataFrame con los datos recodificados y listos para trabajar\n",
    "***"
   ]
  },
  {
   "cell_type": "code",
   "execution_count": 21,
   "metadata": {},
   "outputs": [],
   "source": [
    "DATOS_LIMPIOS = pd.DataFrame()\n",
    "DATOS_LIMPIOS = GRUPO1"
   ]
  },
  {
   "cell_type": "code",
   "execution_count": 22,
   "metadata": {
    "scrolled": true
   },
   "outputs": [],
   "source": [
    "DATOS_LIMPIOS = DATOS_LIMPIOS.append(GRUPO2, ignore_index = True) "
   ]
  },
  {
   "cell_type": "code",
   "execution_count": 23,
   "metadata": {
    "scrolled": false
   },
   "outputs": [
    {
     "data": {
      "text/html": [
       "<div>\n",
       "<style scoped>\n",
       "    .dataframe tbody tr th:only-of-type {\n",
       "        vertical-align: middle;\n",
       "    }\n",
       "\n",
       "    .dataframe tbody tr th {\n",
       "        vertical-align: top;\n",
       "    }\n",
       "\n",
       "    .dataframe thead th {\n",
       "        text-align: right;\n",
       "    }\n",
       "</style>\n",
       "<table border=\"1\" class=\"dataframe\">\n",
       "  <thead>\n",
       "    <tr style=\"text-align: right;\">\n",
       "      <th></th>\n",
       "      <th>FEATURE1</th>\n",
       "      <th>FEATURE2</th>\n",
       "      <th>FEATURE3</th>\n",
       "      <th>FEATURE4</th>\n",
       "      <th>FEATURE5</th>\n",
       "      <th>FEATURE6</th>\n",
       "      <th>FEATURE7</th>\n",
       "      <th>FEATURE8</th>\n",
       "      <th>FEATURE9</th>\n",
       "      <th>FEATURE10</th>\n",
       "      <th>FEATURE11</th>\n",
       "      <th>FEATURE12</th>\n",
       "      <th>FEATURE13</th>\n",
       "      <th>FEATURE14</th>\n",
       "      <th>FEATURE15</th>\n",
       "      <th>FEATURE16</th>\n",
       "      <th>FEATURE17</th>\n",
       "      <th>FEATURE18</th>\n",
       "      <th>FEATURE19</th>\n",
       "      <th>FEATURE20</th>\n",
       "      <th>FEATURE21</th>\n",
       "      <th>GRUPO</th>\n",
       "      <th>TARGET</th>\n",
       "      <th>ID</th>\n",
       "      <th>CAMPAÑA</th>\n",
       "    </tr>\n",
       "  </thead>\n",
       "  <tbody>\n",
       "    <tr>\n",
       "      <td>0</td>\n",
       "      <td>4.50</td>\n",
       "      <td>1</td>\n",
       "      <td>3</td>\n",
       "      <td>4</td>\n",
       "      <td>5</td>\n",
       "      <td>1</td>\n",
       "      <td>1</td>\n",
       "      <td>4</td>\n",
       "      <td>6</td>\n",
       "      <td>0</td>\n",
       "      <td>-2</td>\n",
       "      <td>-2</td>\n",
       "      <td>2.51</td>\n",
       "      <td>2.55</td>\n",
       "      <td>6.24</td>\n",
       "      <td>3.61</td>\n",
       "      <td>0.74</td>\n",
       "      <td>1.22</td>\n",
       "      <td>3.08e-03</td>\n",
       "      <td>3.03e-03</td>\n",
       "      <td>0.58</td>\n",
       "      <td>1</td>\n",
       "      <td>0</td>\n",
       "      <td>1</td>\n",
       "      <td>1</td>\n",
       "    </tr>\n",
       "    <tr>\n",
       "      <td>1</td>\n",
       "      <td>2.20</td>\n",
       "      <td>24</td>\n",
       "      <td>22</td>\n",
       "      <td>46</td>\n",
       "      <td>10</td>\n",
       "      <td>24</td>\n",
       "      <td>28</td>\n",
       "      <td>18</td>\n",
       "      <td>22</td>\n",
       "      <td>-4</td>\n",
       "      <td>-4</td>\n",
       "      <td>-8</td>\n",
       "      <td>3.72</td>\n",
       "      <td>3.88</td>\n",
       "      <td>7.42</td>\n",
       "      <td>5.05</td>\n",
       "      <td>0.84</td>\n",
       "      <td>1.98</td>\n",
       "      <td>7.85e-01</td>\n",
       "      <td>1.94e-02</td>\n",
       "      <td>0.68</td>\n",
       "      <td>1</td>\n",
       "      <td>1</td>\n",
       "      <td>2</td>\n",
       "      <td>2</td>\n",
       "    </tr>\n",
       "    <tr>\n",
       "      <td>2</td>\n",
       "      <td>12.00</td>\n",
       "      <td>7</td>\n",
       "      <td>4</td>\n",
       "      <td>11</td>\n",
       "      <td>18</td>\n",
       "      <td>8</td>\n",
       "      <td>11</td>\n",
       "      <td>2</td>\n",
       "      <td>10</td>\n",
       "      <td>-3</td>\n",
       "      <td>-8</td>\n",
       "      <td>-11</td>\n",
       "      <td>2.24</td>\n",
       "      <td>2.46</td>\n",
       "      <td>11.09</td>\n",
       "      <td>5.85</td>\n",
       "      <td>0.73</td>\n",
       "      <td>2.02</td>\n",
       "      <td>4.39e-02</td>\n",
       "      <td>1.43e-02</td>\n",
       "      <td>0.53</td>\n",
       "      <td>1</td>\n",
       "      <td>0</td>\n",
       "      <td>3</td>\n",
       "      <td>3</td>\n",
       "    </tr>\n",
       "    <tr>\n",
       "      <td>3</td>\n",
       "      <td>1.91</td>\n",
       "      <td>8</td>\n",
       "      <td>5</td>\n",
       "      <td>13</td>\n",
       "      <td>14</td>\n",
       "      <td>6</td>\n",
       "      <td>7</td>\n",
       "      <td>6</td>\n",
       "      <td>9</td>\n",
       "      <td>-1</td>\n",
       "      <td>-3</td>\n",
       "      <td>-4</td>\n",
       "      <td>2.58</td>\n",
       "      <td>2.68</td>\n",
       "      <td>9.86</td>\n",
       "      <td>2.58</td>\n",
       "      <td>0.66</td>\n",
       "      <td>1.41</td>\n",
       "      <td>4.16e-02</td>\n",
       "      <td>2.14e-02</td>\n",
       "      <td>0.26</td>\n",
       "      <td>1</td>\n",
       "      <td>0</td>\n",
       "      <td>4</td>\n",
       "      <td>4</td>\n",
       "    </tr>\n",
       "    <tr>\n",
       "      <td>4</td>\n",
       "      <td>2.50</td>\n",
       "      <td>23</td>\n",
       "      <td>16</td>\n",
       "      <td>39</td>\n",
       "      <td>14</td>\n",
       "      <td>33</td>\n",
       "      <td>25</td>\n",
       "      <td>18</td>\n",
       "      <td>27</td>\n",
       "      <td>8</td>\n",
       "      <td>-9</td>\n",
       "      <td>-1</td>\n",
       "      <td>3.47</td>\n",
       "      <td>3.06</td>\n",
       "      <td>11.67</td>\n",
       "      <td>4.55</td>\n",
       "      <td>1.90</td>\n",
       "      <td>1.24</td>\n",
       "      <td>9.41e-01</td>\n",
       "      <td>6.22e-05</td>\n",
       "      <td>0.39</td>\n",
       "      <td>1</td>\n",
       "      <td>0</td>\n",
       "      <td>5</td>\n",
       "      <td>5</td>\n",
       "    </tr>\n",
       "  </tbody>\n",
       "</table>\n",
       "</div>"
      ],
      "text/plain": [
       "   FEATURE1  FEATURE2  FEATURE3  FEATURE4  FEATURE5  FEATURE6  FEATURE7  FEATURE8  FEATURE9  \\\n",
       "0      4.50         1         3         4         5         1         1         4         6   \n",
       "1      2.20        24        22        46        10        24        28        18        22   \n",
       "2     12.00         7         4        11        18         8        11         2        10   \n",
       "3      1.91         8         5        13        14         6         7         6         9   \n",
       "4      2.50        23        16        39        14        33        25        18        27   \n",
       "\n",
       "   FEATURE10  FEATURE11  FEATURE12  FEATURE13  FEATURE14  FEATURE15  FEATURE16  FEATURE17  \\\n",
       "0          0         -2         -2       2.51       2.55       6.24       3.61       0.74   \n",
       "1         -4         -4         -8       3.72       3.88       7.42       5.05       0.84   \n",
       "2         -3         -8        -11       2.24       2.46      11.09       5.85       0.73   \n",
       "3         -1         -3         -4       2.58       2.68       9.86       2.58       0.66   \n",
       "4          8         -9         -1       3.47       3.06      11.67       4.55       1.90   \n",
       "\n",
       "   FEATURE18  FEATURE19  FEATURE20  FEATURE21 GRUPO  TARGET  ID CAMPAÑA  \n",
       "0       1.22   3.08e-03   3.03e-03       0.58     1       0   1       1  \n",
       "1       1.98   7.85e-01   1.94e-02       0.68     1       1   2       2  \n",
       "2       2.02   4.39e-02   1.43e-02       0.53     1       0   3       3  \n",
       "3       1.41   4.16e-02   2.14e-02       0.26     1       0   4       4  \n",
       "4       1.24   9.41e-01   6.22e-05       0.39     1       0   5       5  "
      ]
     },
     "execution_count": 23,
     "metadata": {},
     "output_type": "execute_result"
    }
   ],
   "source": [
    "DATOS_LIMPIOS.head()"
   ]
  },
  {
   "cell_type": "markdown",
   "metadata": {},
   "source": [
    "***\n",
    "> Mostramos la nueva definicion de columnas y\n",
    "> Mostramos la información del tipo de dato\n",
    "***"
   ]
  },
  {
   "cell_type": "code",
   "execution_count": 24,
   "metadata": {},
   "outputs": [
    {
     "data": {
      "text/plain": [
       "Index(['FEATURE1', 'FEATURE2', 'FEATURE3', 'FEATURE4', 'FEATURE5', 'FEATURE6', 'FEATURE7',\n",
       "       'FEATURE8', 'FEATURE9', 'FEATURE10', 'FEATURE11', 'FEATURE12', 'FEATURE13', 'FEATURE14',\n",
       "       'FEATURE15', 'FEATURE16', 'FEATURE17', 'FEATURE18', 'FEATURE19', 'FEATURE20', 'FEATURE21',\n",
       "       'GRUPO', 'TARGET', 'ID', 'CAMPAÑA'],\n",
       "      dtype='object')"
      ]
     },
     "execution_count": 24,
     "metadata": {},
     "output_type": "execute_result"
    }
   ],
   "source": [
    "DATOS_LIMPIOS.columns"
   ]
  },
  {
   "cell_type": "code",
   "execution_count": 25,
   "metadata": {},
   "outputs": [
    {
     "name": "stdout",
     "output_type": "stream",
     "text": [
      "<class 'pandas.core.frame.DataFrame'>\n",
      "RangeIndex: 13240 entries, 0 to 13239\n",
      "Data columns (total 25 columns):\n",
      "FEATURE1     13240 non-null float64\n",
      "FEATURE2     13240 non-null int64\n",
      "FEATURE3     13240 non-null int64\n",
      "FEATURE4     13240 non-null int64\n",
      "FEATURE5     13240 non-null int64\n",
      "FEATURE6     13240 non-null int64\n",
      "FEATURE7     13240 non-null int64\n",
      "FEATURE8     13240 non-null int64\n",
      "FEATURE9     13240 non-null int64\n",
      "FEATURE10    13240 non-null int64\n",
      "FEATURE11    13240 non-null int64\n",
      "FEATURE12    13240 non-null int64\n",
      "FEATURE13    13240 non-null float64\n",
      "FEATURE14    13240 non-null float64\n",
      "FEATURE15    13240 non-null float64\n",
      "FEATURE16    13240 non-null float64\n",
      "FEATURE17    13240 non-null float64\n",
      "FEATURE18    13240 non-null float64\n",
      "FEATURE19    13240 non-null float64\n",
      "FEATURE20    13240 non-null float64\n",
      "FEATURE21    13240 non-null float64\n",
      "GRUPO        13240 non-null object\n",
      "TARGET       13240 non-null int32\n",
      "ID           13240 non-null int32\n",
      "CAMPAÑA      13240 non-null object\n",
      "dtypes: float64(10), int32(2), int64(11), object(2)\n",
      "memory usage: 2.4+ MB\n"
     ]
    }
   ],
   "source": [
    "DATOS_LIMPIOS.info()"
   ]
  },
  {
   "cell_type": "code",
   "execution_count": 26,
   "metadata": {
    "scrolled": true
   },
   "outputs": [
    {
     "data": {
      "text/html": [
       "<div>\n",
       "<style scoped>\n",
       "    .dataframe tbody tr th:only-of-type {\n",
       "        vertical-align: middle;\n",
       "    }\n",
       "\n",
       "    .dataframe tbody tr th {\n",
       "        vertical-align: top;\n",
       "    }\n",
       "\n",
       "    .dataframe thead th {\n",
       "        text-align: right;\n",
       "    }\n",
       "</style>\n",
       "<table border=\"1\" class=\"dataframe\">\n",
       "  <thead>\n",
       "    <tr style=\"text-align: right;\">\n",
       "      <th></th>\n",
       "      <th>FEATURE1</th>\n",
       "      <th>FEATURE2</th>\n",
       "      <th>FEATURE3</th>\n",
       "      <th>FEATURE4</th>\n",
       "      <th>FEATURE5</th>\n",
       "      <th>FEATURE6</th>\n",
       "      <th>FEATURE7</th>\n",
       "      <th>FEATURE8</th>\n",
       "      <th>FEATURE9</th>\n",
       "      <th>FEATURE10</th>\n",
       "      <th>FEATURE11</th>\n",
       "      <th>FEATURE12</th>\n",
       "      <th>FEATURE13</th>\n",
       "      <th>FEATURE14</th>\n",
       "      <th>FEATURE15</th>\n",
       "      <th>FEATURE16</th>\n",
       "      <th>FEATURE17</th>\n",
       "      <th>FEATURE18</th>\n",
       "      <th>FEATURE19</th>\n",
       "      <th>FEATURE20</th>\n",
       "      <th>FEATURE21</th>\n",
       "      <th>GRUPO</th>\n",
       "      <th>TARGET</th>\n",
       "      <th>ID</th>\n",
       "      <th>CAMPAÑA</th>\n",
       "    </tr>\n",
       "  </thead>\n",
       "  <tbody>\n",
       "    <tr>\n",
       "      <td>0</td>\n",
       "      <td>4.50</td>\n",
       "      <td>1</td>\n",
       "      <td>3</td>\n",
       "      <td>4</td>\n",
       "      <td>5</td>\n",
       "      <td>1</td>\n",
       "      <td>1</td>\n",
       "      <td>4</td>\n",
       "      <td>6</td>\n",
       "      <td>0</td>\n",
       "      <td>-2</td>\n",
       "      <td>-2</td>\n",
       "      <td>2.51</td>\n",
       "      <td>2.55</td>\n",
       "      <td>6.24</td>\n",
       "      <td>3.61</td>\n",
       "      <td>0.74</td>\n",
       "      <td>1.22</td>\n",
       "      <td>3.08e-03</td>\n",
       "      <td>3.03e-03</td>\n",
       "      <td>0.58</td>\n",
       "      <td>1</td>\n",
       "      <td>0</td>\n",
       "      <td>1</td>\n",
       "      <td>1</td>\n",
       "    </tr>\n",
       "    <tr>\n",
       "      <td>1</td>\n",
       "      <td>2.20</td>\n",
       "      <td>24</td>\n",
       "      <td>22</td>\n",
       "      <td>46</td>\n",
       "      <td>10</td>\n",
       "      <td>24</td>\n",
       "      <td>28</td>\n",
       "      <td>18</td>\n",
       "      <td>22</td>\n",
       "      <td>-4</td>\n",
       "      <td>-4</td>\n",
       "      <td>-8</td>\n",
       "      <td>3.72</td>\n",
       "      <td>3.88</td>\n",
       "      <td>7.42</td>\n",
       "      <td>5.05</td>\n",
       "      <td>0.84</td>\n",
       "      <td>1.98</td>\n",
       "      <td>7.85e-01</td>\n",
       "      <td>1.94e-02</td>\n",
       "      <td>0.68</td>\n",
       "      <td>1</td>\n",
       "      <td>1</td>\n",
       "      <td>2</td>\n",
       "      <td>2</td>\n",
       "    </tr>\n",
       "    <tr>\n",
       "      <td>2</td>\n",
       "      <td>12.00</td>\n",
       "      <td>7</td>\n",
       "      <td>4</td>\n",
       "      <td>11</td>\n",
       "      <td>18</td>\n",
       "      <td>8</td>\n",
       "      <td>11</td>\n",
       "      <td>2</td>\n",
       "      <td>10</td>\n",
       "      <td>-3</td>\n",
       "      <td>-8</td>\n",
       "      <td>-11</td>\n",
       "      <td>2.24</td>\n",
       "      <td>2.46</td>\n",
       "      <td>11.09</td>\n",
       "      <td>5.85</td>\n",
       "      <td>0.73</td>\n",
       "      <td>2.02</td>\n",
       "      <td>4.39e-02</td>\n",
       "      <td>1.43e-02</td>\n",
       "      <td>0.53</td>\n",
       "      <td>1</td>\n",
       "      <td>0</td>\n",
       "      <td>3</td>\n",
       "      <td>3</td>\n",
       "    </tr>\n",
       "    <tr>\n",
       "      <td>3</td>\n",
       "      <td>1.91</td>\n",
       "      <td>8</td>\n",
       "      <td>5</td>\n",
       "      <td>13</td>\n",
       "      <td>14</td>\n",
       "      <td>6</td>\n",
       "      <td>7</td>\n",
       "      <td>6</td>\n",
       "      <td>9</td>\n",
       "      <td>-1</td>\n",
       "      <td>-3</td>\n",
       "      <td>-4</td>\n",
       "      <td>2.58</td>\n",
       "      <td>2.68</td>\n",
       "      <td>9.86</td>\n",
       "      <td>2.58</td>\n",
       "      <td>0.66</td>\n",
       "      <td>1.41</td>\n",
       "      <td>4.16e-02</td>\n",
       "      <td>2.14e-02</td>\n",
       "      <td>0.26</td>\n",
       "      <td>1</td>\n",
       "      <td>0</td>\n",
       "      <td>4</td>\n",
       "      <td>4</td>\n",
       "    </tr>\n",
       "    <tr>\n",
       "      <td>4</td>\n",
       "      <td>2.50</td>\n",
       "      <td>23</td>\n",
       "      <td>16</td>\n",
       "      <td>39</td>\n",
       "      <td>14</td>\n",
       "      <td>33</td>\n",
       "      <td>25</td>\n",
       "      <td>18</td>\n",
       "      <td>27</td>\n",
       "      <td>8</td>\n",
       "      <td>-9</td>\n",
       "      <td>-1</td>\n",
       "      <td>3.47</td>\n",
       "      <td>3.06</td>\n",
       "      <td>11.67</td>\n",
       "      <td>4.55</td>\n",
       "      <td>1.90</td>\n",
       "      <td>1.24</td>\n",
       "      <td>9.41e-01</td>\n",
       "      <td>6.22e-05</td>\n",
       "      <td>0.39</td>\n",
       "      <td>1</td>\n",
       "      <td>0</td>\n",
       "      <td>5</td>\n",
       "      <td>5</td>\n",
       "    </tr>\n",
       "  </tbody>\n",
       "</table>\n",
       "</div>"
      ],
      "text/plain": [
       "   FEATURE1  FEATURE2  FEATURE3  FEATURE4  FEATURE5  FEATURE6  FEATURE7  FEATURE8  FEATURE9  \\\n",
       "0      4.50         1         3         4         5         1         1         4         6   \n",
       "1      2.20        24        22        46        10        24        28        18        22   \n",
       "2     12.00         7         4        11        18         8        11         2        10   \n",
       "3      1.91         8         5        13        14         6         7         6         9   \n",
       "4      2.50        23        16        39        14        33        25        18        27   \n",
       "\n",
       "   FEATURE10  FEATURE11  FEATURE12  FEATURE13  FEATURE14  FEATURE15  FEATURE16  FEATURE17  \\\n",
       "0          0         -2         -2       2.51       2.55       6.24       3.61       0.74   \n",
       "1         -4         -4         -8       3.72       3.88       7.42       5.05       0.84   \n",
       "2         -3         -8        -11       2.24       2.46      11.09       5.85       0.73   \n",
       "3         -1         -3         -4       2.58       2.68       9.86       2.58       0.66   \n",
       "4          8         -9         -1       3.47       3.06      11.67       4.55       1.90   \n",
       "\n",
       "   FEATURE18  FEATURE19  FEATURE20  FEATURE21 GRUPO  TARGET  ID CAMPAÑA  \n",
       "0       1.22   3.08e-03   3.03e-03       0.58     1       0   1       1  \n",
       "1       1.98   7.85e-01   1.94e-02       0.68     1       1   2       2  \n",
       "2       2.02   4.39e-02   1.43e-02       0.53     1       0   3       3  \n",
       "3       1.41   4.16e-02   2.14e-02       0.26     1       0   4       4  \n",
       "4       1.24   9.41e-01   6.22e-05       0.39     1       0   5       5  "
      ]
     },
     "execution_count": 26,
     "metadata": {},
     "output_type": "execute_result"
    }
   ],
   "source": [
    "DATOS_LIMPIOS.head()"
   ]
  },
  {
   "cell_type": "markdown",
   "metadata": {},
   "source": [
    "***\n",
    "> Acomodamos el orden de las columnas y ordenamos los indices\n",
    "> para una mejor visualizacion\n",
    "***"
   ]
  },
  {
   "cell_type": "code",
   "execution_count": 27,
   "metadata": {},
   "outputs": [],
   "source": [
    "DATOS_LIMPIOS = DATOS_LIMPIOS.sort_values(by=['ID'])"
   ]
  },
  {
   "cell_type": "code",
   "execution_count": 28,
   "metadata": {},
   "outputs": [],
   "source": [
    "DATOS_LIMPIOS = DATOS_LIMPIOS.reset_index()"
   ]
  },
  {
   "cell_type": "code",
   "execution_count": 29,
   "metadata": {},
   "outputs": [
    {
     "data": {
      "text/html": [
       "<div>\n",
       "<style scoped>\n",
       "    .dataframe tbody tr th:only-of-type {\n",
       "        vertical-align: middle;\n",
       "    }\n",
       "\n",
       "    .dataframe tbody tr th {\n",
       "        vertical-align: top;\n",
       "    }\n",
       "\n",
       "    .dataframe thead th {\n",
       "        text-align: right;\n",
       "    }\n",
       "</style>\n",
       "<table border=\"1\" class=\"dataframe\">\n",
       "  <thead>\n",
       "    <tr style=\"text-align: right;\">\n",
       "      <th></th>\n",
       "      <th>index</th>\n",
       "      <th>FEATURE1</th>\n",
       "      <th>FEATURE2</th>\n",
       "      <th>FEATURE3</th>\n",
       "      <th>FEATURE4</th>\n",
       "      <th>FEATURE5</th>\n",
       "      <th>FEATURE6</th>\n",
       "      <th>FEATURE7</th>\n",
       "      <th>FEATURE8</th>\n",
       "      <th>FEATURE9</th>\n",
       "      <th>FEATURE10</th>\n",
       "      <th>FEATURE11</th>\n",
       "      <th>FEATURE12</th>\n",
       "      <th>FEATURE13</th>\n",
       "      <th>FEATURE14</th>\n",
       "      <th>FEATURE15</th>\n",
       "      <th>FEATURE16</th>\n",
       "      <th>FEATURE17</th>\n",
       "      <th>FEATURE18</th>\n",
       "      <th>FEATURE19</th>\n",
       "      <th>FEATURE20</th>\n",
       "      <th>FEATURE21</th>\n",
       "      <th>GRUPO</th>\n",
       "      <th>TARGET</th>\n",
       "      <th>ID</th>\n",
       "      <th>CAMPAÑA</th>\n",
       "    </tr>\n",
       "  </thead>\n",
       "  <tbody>\n",
       "    <tr>\n",
       "      <td>0</td>\n",
       "      <td>0</td>\n",
       "      <td>4.50</td>\n",
       "      <td>1</td>\n",
       "      <td>3</td>\n",
       "      <td>4</td>\n",
       "      <td>5</td>\n",
       "      <td>1</td>\n",
       "      <td>1</td>\n",
       "      <td>4</td>\n",
       "      <td>6</td>\n",
       "      <td>0</td>\n",
       "      <td>-2</td>\n",
       "      <td>-2</td>\n",
       "      <td>2.51</td>\n",
       "      <td>2.55</td>\n",
       "      <td>6.24</td>\n",
       "      <td>3.61</td>\n",
       "      <td>0.74</td>\n",
       "      <td>1.22e+00</td>\n",
       "      <td>3.08e-03</td>\n",
       "      <td>3.03e-03</td>\n",
       "      <td>0.58</td>\n",
       "      <td>1</td>\n",
       "      <td>0</td>\n",
       "      <td>1</td>\n",
       "      <td>1</td>\n",
       "    </tr>\n",
       "    <tr>\n",
       "      <td>1</td>\n",
       "      <td>6620</td>\n",
       "      <td>1.83</td>\n",
       "      <td>6</td>\n",
       "      <td>0</td>\n",
       "      <td>6</td>\n",
       "      <td>7</td>\n",
       "      <td>4</td>\n",
       "      <td>0</td>\n",
       "      <td>0</td>\n",
       "      <td>1</td>\n",
       "      <td>4</td>\n",
       "      <td>-1</td>\n",
       "      <td>3</td>\n",
       "      <td>2.89</td>\n",
       "      <td>2.62</td>\n",
       "      <td>5.55</td>\n",
       "      <td>0.73</td>\n",
       "      <td>0.16</td>\n",
       "      <td>2.99e-03</td>\n",
       "      <td>2.95e-03</td>\n",
       "      <td>5.86e-01</td>\n",
       "      <td>3.50</td>\n",
       "      <td>2</td>\n",
       "      <td>1</td>\n",
       "      <td>1</td>\n",
       "      <td>1</td>\n",
       "    </tr>\n",
       "    <tr>\n",
       "      <td>2</td>\n",
       "      <td>1</td>\n",
       "      <td>2.20</td>\n",
       "      <td>24</td>\n",
       "      <td>22</td>\n",
       "      <td>46</td>\n",
       "      <td>10</td>\n",
       "      <td>24</td>\n",
       "      <td>28</td>\n",
       "      <td>18</td>\n",
       "      <td>22</td>\n",
       "      <td>-4</td>\n",
       "      <td>-4</td>\n",
       "      <td>-8</td>\n",
       "      <td>3.72</td>\n",
       "      <td>3.88</td>\n",
       "      <td>7.42</td>\n",
       "      <td>5.05</td>\n",
       "      <td>0.84</td>\n",
       "      <td>1.98e+00</td>\n",
       "      <td>7.85e-01</td>\n",
       "      <td>1.94e-02</td>\n",
       "      <td>0.68</td>\n",
       "      <td>1</td>\n",
       "      <td>1</td>\n",
       "      <td>2</td>\n",
       "      <td>2</td>\n",
       "    </tr>\n",
       "    <tr>\n",
       "      <td>3</td>\n",
       "      <td>6621</td>\n",
       "      <td>2.80</td>\n",
       "      <td>34</td>\n",
       "      <td>14</td>\n",
       "      <td>48</td>\n",
       "      <td>10</td>\n",
       "      <td>25</td>\n",
       "      <td>16</td>\n",
       "      <td>16</td>\n",
       "      <td>24</td>\n",
       "      <td>9</td>\n",
       "      <td>-8</td>\n",
       "      <td>1</td>\n",
       "      <td>4.07</td>\n",
       "      <td>4.04</td>\n",
       "      <td>6.37</td>\n",
       "      <td>1.51</td>\n",
       "      <td>1.78</td>\n",
       "      <td>7.85e-01</td>\n",
       "      <td>3.34e-02</td>\n",
       "      <td>4.99e-01</td>\n",
       "      <td>3.25</td>\n",
       "      <td>2</td>\n",
       "      <td>0</td>\n",
       "      <td>2</td>\n",
       "      <td>2</td>\n",
       "    </tr>\n",
       "    <tr>\n",
       "      <td>4</td>\n",
       "      <td>2</td>\n",
       "      <td>12.00</td>\n",
       "      <td>7</td>\n",
       "      <td>4</td>\n",
       "      <td>11</td>\n",
       "      <td>18</td>\n",
       "      <td>8</td>\n",
       "      <td>11</td>\n",
       "      <td>2</td>\n",
       "      <td>10</td>\n",
       "      <td>-3</td>\n",
       "      <td>-8</td>\n",
       "      <td>-11</td>\n",
       "      <td>2.24</td>\n",
       "      <td>2.46</td>\n",
       "      <td>11.09</td>\n",
       "      <td>5.85</td>\n",
       "      <td>0.73</td>\n",
       "      <td>2.02e+00</td>\n",
       "      <td>4.39e-02</td>\n",
       "      <td>1.43e-02</td>\n",
       "      <td>0.53</td>\n",
       "      <td>1</td>\n",
       "      <td>0</td>\n",
       "      <td>3</td>\n",
       "      <td>3</td>\n",
       "    </tr>\n",
       "  </tbody>\n",
       "</table>\n",
       "</div>"
      ],
      "text/plain": [
       "   index  FEATURE1  FEATURE2  FEATURE3  FEATURE4  FEATURE5  FEATURE6  FEATURE7  FEATURE8  \\\n",
       "0      0      4.50         1         3         4         5         1         1         4   \n",
       "1   6620      1.83         6         0         6         7         4         0         0   \n",
       "2      1      2.20        24        22        46        10        24        28        18   \n",
       "3   6621      2.80        34        14        48        10        25        16        16   \n",
       "4      2     12.00         7         4        11        18         8        11         2   \n",
       "\n",
       "   FEATURE9  FEATURE10  FEATURE11  FEATURE12  FEATURE13  FEATURE14  FEATURE15  FEATURE16  \\\n",
       "0         6          0         -2         -2       2.51       2.55       6.24       3.61   \n",
       "1         1          4         -1          3       2.89       2.62       5.55       0.73   \n",
       "2        22         -4         -4         -8       3.72       3.88       7.42       5.05   \n",
       "3        24          9         -8          1       4.07       4.04       6.37       1.51   \n",
       "4        10         -3         -8        -11       2.24       2.46      11.09       5.85   \n",
       "\n",
       "   FEATURE17  FEATURE18  FEATURE19  FEATURE20  FEATURE21 GRUPO  TARGET  ID CAMPAÑA  \n",
       "0       0.74   1.22e+00   3.08e-03   3.03e-03       0.58     1       0   1       1  \n",
       "1       0.16   2.99e-03   2.95e-03   5.86e-01       3.50     2       1   1       1  \n",
       "2       0.84   1.98e+00   7.85e-01   1.94e-02       0.68     1       1   2       2  \n",
       "3       1.78   7.85e-01   3.34e-02   4.99e-01       3.25     2       0   2       2  \n",
       "4       0.73   2.02e+00   4.39e-02   1.43e-02       0.53     1       0   3       3  "
      ]
     },
     "execution_count": 29,
     "metadata": {},
     "output_type": "execute_result"
    }
   ],
   "source": [
    "DATOS_LIMPIOS.head()"
   ]
  },
  {
   "cell_type": "code",
   "execution_count": 30,
   "metadata": {},
   "outputs": [],
   "source": [
    "del DATOS_LIMPIOS['index']\n",
    "del DATOS_LIMPIOS['ID']"
   ]
  },
  {
   "cell_type": "code",
   "execution_count": 31,
   "metadata": {},
   "outputs": [],
   "source": [
    "col = \"CAMPAÑA\" \n",
    "DATOS_LIMPIOS = pd.concat([DATOS_LIMPIOS[col],DATOS_LIMPIOS.drop(col,axis=1)], axis=1)\n",
    "col = \"GRUPO\" \n",
    "DATOS_LIMPIOS = pd.concat([DATOS_LIMPIOS[col],DATOS_LIMPIOS.drop(col,axis=1)], axis=1)"
   ]
  },
  {
   "cell_type": "code",
   "execution_count": 32,
   "metadata": {
    "scrolled": true
   },
   "outputs": [
    {
     "data": {
      "text/html": [
       "<div>\n",
       "<style scoped>\n",
       "    .dataframe tbody tr th:only-of-type {\n",
       "        vertical-align: middle;\n",
       "    }\n",
       "\n",
       "    .dataframe tbody tr th {\n",
       "        vertical-align: top;\n",
       "    }\n",
       "\n",
       "    .dataframe thead th {\n",
       "        text-align: right;\n",
       "    }\n",
       "</style>\n",
       "<table border=\"1\" class=\"dataframe\">\n",
       "  <thead>\n",
       "    <tr style=\"text-align: right;\">\n",
       "      <th></th>\n",
       "      <th>GRUPO</th>\n",
       "      <th>CAMPAÑA</th>\n",
       "      <th>FEATURE1</th>\n",
       "      <th>FEATURE2</th>\n",
       "      <th>FEATURE3</th>\n",
       "      <th>FEATURE4</th>\n",
       "      <th>FEATURE5</th>\n",
       "      <th>FEATURE6</th>\n",
       "      <th>FEATURE7</th>\n",
       "      <th>FEATURE8</th>\n",
       "      <th>FEATURE9</th>\n",
       "      <th>FEATURE10</th>\n",
       "      <th>FEATURE11</th>\n",
       "      <th>FEATURE12</th>\n",
       "      <th>FEATURE13</th>\n",
       "      <th>FEATURE14</th>\n",
       "      <th>FEATURE15</th>\n",
       "      <th>FEATURE16</th>\n",
       "      <th>FEATURE17</th>\n",
       "      <th>FEATURE18</th>\n",
       "      <th>FEATURE19</th>\n",
       "      <th>FEATURE20</th>\n",
       "      <th>FEATURE21</th>\n",
       "      <th>TARGET</th>\n",
       "    </tr>\n",
       "  </thead>\n",
       "  <tbody>\n",
       "    <tr>\n",
       "      <td>0</td>\n",
       "      <td>1</td>\n",
       "      <td>1</td>\n",
       "      <td>4.50</td>\n",
       "      <td>1</td>\n",
       "      <td>3</td>\n",
       "      <td>4</td>\n",
       "      <td>5</td>\n",
       "      <td>1</td>\n",
       "      <td>1</td>\n",
       "      <td>4</td>\n",
       "      <td>6</td>\n",
       "      <td>0</td>\n",
       "      <td>-2</td>\n",
       "      <td>-2</td>\n",
       "      <td>2.51</td>\n",
       "      <td>2.55</td>\n",
       "      <td>6.24</td>\n",
       "      <td>3.61</td>\n",
       "      <td>0.74</td>\n",
       "      <td>1.22e+00</td>\n",
       "      <td>3.08e-03</td>\n",
       "      <td>3.03e-03</td>\n",
       "      <td>0.58</td>\n",
       "      <td>0</td>\n",
       "    </tr>\n",
       "    <tr>\n",
       "      <td>1</td>\n",
       "      <td>2</td>\n",
       "      <td>1</td>\n",
       "      <td>1.83</td>\n",
       "      <td>6</td>\n",
       "      <td>0</td>\n",
       "      <td>6</td>\n",
       "      <td>7</td>\n",
       "      <td>4</td>\n",
       "      <td>0</td>\n",
       "      <td>0</td>\n",
       "      <td>1</td>\n",
       "      <td>4</td>\n",
       "      <td>-1</td>\n",
       "      <td>3</td>\n",
       "      <td>2.89</td>\n",
       "      <td>2.62</td>\n",
       "      <td>5.55</td>\n",
       "      <td>0.73</td>\n",
       "      <td>0.16</td>\n",
       "      <td>2.99e-03</td>\n",
       "      <td>2.95e-03</td>\n",
       "      <td>5.86e-01</td>\n",
       "      <td>3.50</td>\n",
       "      <td>1</td>\n",
       "    </tr>\n",
       "    <tr>\n",
       "      <td>2</td>\n",
       "      <td>1</td>\n",
       "      <td>2</td>\n",
       "      <td>2.20</td>\n",
       "      <td>24</td>\n",
       "      <td>22</td>\n",
       "      <td>46</td>\n",
       "      <td>10</td>\n",
       "      <td>24</td>\n",
       "      <td>28</td>\n",
       "      <td>18</td>\n",
       "      <td>22</td>\n",
       "      <td>-4</td>\n",
       "      <td>-4</td>\n",
       "      <td>-8</td>\n",
       "      <td>3.72</td>\n",
       "      <td>3.88</td>\n",
       "      <td>7.42</td>\n",
       "      <td>5.05</td>\n",
       "      <td>0.84</td>\n",
       "      <td>1.98e+00</td>\n",
       "      <td>7.85e-01</td>\n",
       "      <td>1.94e-02</td>\n",
       "      <td>0.68</td>\n",
       "      <td>1</td>\n",
       "    </tr>\n",
       "    <tr>\n",
       "      <td>3</td>\n",
       "      <td>2</td>\n",
       "      <td>2</td>\n",
       "      <td>2.80</td>\n",
       "      <td>34</td>\n",
       "      <td>14</td>\n",
       "      <td>48</td>\n",
       "      <td>10</td>\n",
       "      <td>25</td>\n",
       "      <td>16</td>\n",
       "      <td>16</td>\n",
       "      <td>24</td>\n",
       "      <td>9</td>\n",
       "      <td>-8</td>\n",
       "      <td>1</td>\n",
       "      <td>4.07</td>\n",
       "      <td>4.04</td>\n",
       "      <td>6.37</td>\n",
       "      <td>1.51</td>\n",
       "      <td>1.78</td>\n",
       "      <td>7.85e-01</td>\n",
       "      <td>3.34e-02</td>\n",
       "      <td>4.99e-01</td>\n",
       "      <td>3.25</td>\n",
       "      <td>0</td>\n",
       "    </tr>\n",
       "    <tr>\n",
       "      <td>4</td>\n",
       "      <td>1</td>\n",
       "      <td>3</td>\n",
       "      <td>12.00</td>\n",
       "      <td>7</td>\n",
       "      <td>4</td>\n",
       "      <td>11</td>\n",
       "      <td>18</td>\n",
       "      <td>8</td>\n",
       "      <td>11</td>\n",
       "      <td>2</td>\n",
       "      <td>10</td>\n",
       "      <td>-3</td>\n",
       "      <td>-8</td>\n",
       "      <td>-11</td>\n",
       "      <td>2.24</td>\n",
       "      <td>2.46</td>\n",
       "      <td>11.09</td>\n",
       "      <td>5.85</td>\n",
       "      <td>0.73</td>\n",
       "      <td>2.02e+00</td>\n",
       "      <td>4.39e-02</td>\n",
       "      <td>1.43e-02</td>\n",
       "      <td>0.53</td>\n",
       "      <td>0</td>\n",
       "    </tr>\n",
       "  </tbody>\n",
       "</table>\n",
       "</div>"
      ],
      "text/plain": [
       "  GRUPO CAMPAÑA  FEATURE1  FEATURE2  FEATURE3  FEATURE4  FEATURE5  FEATURE6  FEATURE7  FEATURE8  \\\n",
       "0     1       1      4.50         1         3         4         5         1         1         4   \n",
       "1     2       1      1.83         6         0         6         7         4         0         0   \n",
       "2     1       2      2.20        24        22        46        10        24        28        18   \n",
       "3     2       2      2.80        34        14        48        10        25        16        16   \n",
       "4     1       3     12.00         7         4        11        18         8        11         2   \n",
       "\n",
       "   FEATURE9  FEATURE10  FEATURE11  FEATURE12  FEATURE13  FEATURE14  FEATURE15  FEATURE16  \\\n",
       "0         6          0         -2         -2       2.51       2.55       6.24       3.61   \n",
       "1         1          4         -1          3       2.89       2.62       5.55       0.73   \n",
       "2        22         -4         -4         -8       3.72       3.88       7.42       5.05   \n",
       "3        24          9         -8          1       4.07       4.04       6.37       1.51   \n",
       "4        10         -3         -8        -11       2.24       2.46      11.09       5.85   \n",
       "\n",
       "   FEATURE17  FEATURE18  FEATURE19  FEATURE20  FEATURE21  TARGET  \n",
       "0       0.74   1.22e+00   3.08e-03   3.03e-03       0.58       0  \n",
       "1       0.16   2.99e-03   2.95e-03   5.86e-01       3.50       1  \n",
       "2       0.84   1.98e+00   7.85e-01   1.94e-02       0.68       1  \n",
       "3       1.78   7.85e-01   3.34e-02   4.99e-01       3.25       0  \n",
       "4       0.73   2.02e+00   4.39e-02   1.43e-02       0.53       0  "
      ]
     },
     "execution_count": 32,
     "metadata": {},
     "output_type": "execute_result"
    }
   ],
   "source": [
    "DATOS_LIMPIOS.head()"
   ]
  },
  {
   "cell_type": "markdown",
   "metadata": {},
   "source": [
    "***\n",
    "> Como parte de la limpieza, estandarizamos los datos\n",
    "> aplicando una normalizacion en los datos de cada caracteristica\n",
    "***"
   ]
  },
  {
   "cell_type": "code",
   "execution_count": 33,
   "metadata": {},
   "outputs": [],
   "source": [
    "ordinalEncoder = OrdinalEncoder()\n",
    "\n",
    "for dato in (DATOS_LIMPIOS.filter(regex='^FEATURE\\d+')) :\n",
    "    DATOS_LIMPIOS[dato]= ordinalEncoder.fit_transform(DATOS_LIMPIOS[dato].values.reshape(-1, 1))"
   ]
  },
  {
   "cell_type": "code",
   "execution_count": 34,
   "metadata": {
    "scrolled": false
   },
   "outputs": [
    {
     "data": {
      "text/html": [
       "<div>\n",
       "<style scoped>\n",
       "    .dataframe tbody tr th:only-of-type {\n",
       "        vertical-align: middle;\n",
       "    }\n",
       "\n",
       "    .dataframe tbody tr th {\n",
       "        vertical-align: top;\n",
       "    }\n",
       "\n",
       "    .dataframe thead th {\n",
       "        text-align: right;\n",
       "    }\n",
       "</style>\n",
       "<table border=\"1\" class=\"dataframe\">\n",
       "  <thead>\n",
       "    <tr style=\"text-align: right;\">\n",
       "      <th></th>\n",
       "      <th>GRUPO</th>\n",
       "      <th>CAMPAÑA</th>\n",
       "      <th>FEATURE1</th>\n",
       "      <th>FEATURE2</th>\n",
       "      <th>FEATURE3</th>\n",
       "      <th>FEATURE4</th>\n",
       "      <th>FEATURE5</th>\n",
       "      <th>FEATURE6</th>\n",
       "      <th>FEATURE7</th>\n",
       "      <th>FEATURE8</th>\n",
       "      <th>FEATURE9</th>\n",
       "      <th>FEATURE10</th>\n",
       "      <th>FEATURE11</th>\n",
       "      <th>FEATURE12</th>\n",
       "      <th>FEATURE13</th>\n",
       "      <th>FEATURE14</th>\n",
       "      <th>FEATURE15</th>\n",
       "      <th>FEATURE16</th>\n",
       "      <th>FEATURE17</th>\n",
       "      <th>FEATURE18</th>\n",
       "      <th>FEATURE19</th>\n",
       "      <th>FEATURE20</th>\n",
       "      <th>FEATURE21</th>\n",
       "      <th>TARGET</th>\n",
       "    </tr>\n",
       "  </thead>\n",
       "  <tbody>\n",
       "    <tr>\n",
       "      <td>0</td>\n",
       "      <td>1</td>\n",
       "      <td>1</td>\n",
       "      <td>125.0</td>\n",
       "      <td>1.0</td>\n",
       "      <td>3.0</td>\n",
       "      <td>4.0</td>\n",
       "      <td>4.0</td>\n",
       "      <td>1.0</td>\n",
       "      <td>1.0</td>\n",
       "      <td>4.0</td>\n",
       "      <td>6.0</td>\n",
       "      <td>27.0</td>\n",
       "      <td>35.0</td>\n",
       "      <td>54.0</td>\n",
       "      <td>2752.0</td>\n",
       "      <td>3443.0</td>\n",
       "      <td>4531.0</td>\n",
       "      <td>6863.0</td>\n",
       "      <td>1630.0</td>\n",
       "      <td>3748.0</td>\n",
       "      <td>467.0</td>\n",
       "      <td>393.0</td>\n",
       "      <td>5268.0</td>\n",
       "      <td>0</td>\n",
       "    </tr>\n",
       "    <tr>\n",
       "      <td>1</td>\n",
       "      <td>2</td>\n",
       "      <td>1</td>\n",
       "      <td>58.0</td>\n",
       "      <td>6.0</td>\n",
       "      <td>0.0</td>\n",
       "      <td>6.0</td>\n",
       "      <td>6.0</td>\n",
       "      <td>4.0</td>\n",
       "      <td>0.0</td>\n",
       "      <td>0.0</td>\n",
       "      <td>1.0</td>\n",
       "      <td>31.0</td>\n",
       "      <td>36.0</td>\n",
       "      <td>59.0</td>\n",
       "      <td>5094.0</td>\n",
       "      <td>4099.0</td>\n",
       "      <td>3677.0</td>\n",
       "      <td>757.0</td>\n",
       "      <td>12.0</td>\n",
       "      <td>84.0</td>\n",
       "      <td>459.0</td>\n",
       "      <td>6022.0</td>\n",
       "      <td>6300.0</td>\n",
       "      <td>1</td>\n",
       "    </tr>\n",
       "    <tr>\n",
       "      <td>2</td>\n",
       "      <td>1</td>\n",
       "      <td>2</td>\n",
       "      <td>73.0</td>\n",
       "      <td>24.0</td>\n",
       "      <td>22.0</td>\n",
       "      <td>46.0</td>\n",
       "      <td>9.0</td>\n",
       "      <td>24.0</td>\n",
       "      <td>28.0</td>\n",
       "      <td>18.0</td>\n",
       "      <td>22.0</td>\n",
       "      <td>23.0</td>\n",
       "      <td>33.0</td>\n",
       "      <td>48.0</td>\n",
       "      <td>8117.0</td>\n",
       "      <td>9205.0</td>\n",
       "      <td>5697.0</td>\n",
       "      <td>8715.0</td>\n",
       "      <td>2301.0</td>\n",
       "      <td>6243.0</td>\n",
       "      <td>1551.0</td>\n",
       "      <td>509.0</td>\n",
       "      <td>6243.0</td>\n",
       "      <td>1</td>\n",
       "    </tr>\n",
       "    <tr>\n",
       "      <td>3</td>\n",
       "      <td>2</td>\n",
       "      <td>2</td>\n",
       "      <td>95.0</td>\n",
       "      <td>34.0</td>\n",
       "      <td>14.0</td>\n",
       "      <td>48.0</td>\n",
       "      <td>9.0</td>\n",
       "      <td>25.0</td>\n",
       "      <td>16.0</td>\n",
       "      <td>16.0</td>\n",
       "      <td>24.0</td>\n",
       "      <td>36.0</td>\n",
       "      <td>29.0</td>\n",
       "      <td>57.0</td>\n",
       "      <td>8917.0</td>\n",
       "      <td>9504.0</td>\n",
       "      <td>4656.0</td>\n",
       "      <td>4047.0</td>\n",
       "      <td>9534.0</td>\n",
       "      <td>1851.0</td>\n",
       "      <td>869.0</td>\n",
       "      <td>3973.0</td>\n",
       "      <td>6295.0</td>\n",
       "      <td>0</td>\n",
       "    </tr>\n",
       "    <tr>\n",
       "      <td>4</td>\n",
       "      <td>1</td>\n",
       "      <td>3</td>\n",
       "      <td>147.0</td>\n",
       "      <td>7.0</td>\n",
       "      <td>4.0</td>\n",
       "      <td>11.0</td>\n",
       "      <td>17.0</td>\n",
       "      <td>8.0</td>\n",
       "      <td>11.0</td>\n",
       "      <td>2.0</td>\n",
       "      <td>10.0</td>\n",
       "      <td>24.0</td>\n",
       "      <td>29.0</td>\n",
       "      <td>45.0</td>\n",
       "      <td>1416.0</td>\n",
       "      <td>2409.0</td>\n",
       "      <td>9059.0</td>\n",
       "      <td>9674.0</td>\n",
       "      <td>1519.0</td>\n",
       "      <td>6300.0</td>\n",
       "      <td>925.0</td>\n",
       "      <td>488.0</td>\n",
       "      <td>3973.0</td>\n",
       "      <td>0</td>\n",
       "    </tr>\n",
       "  </tbody>\n",
       "</table>\n",
       "</div>"
      ],
      "text/plain": [
       "  GRUPO CAMPAÑA  FEATURE1  FEATURE2  FEATURE3  FEATURE4  FEATURE5  FEATURE6  FEATURE7  FEATURE8  \\\n",
       "0     1       1     125.0       1.0       3.0       4.0       4.0       1.0       1.0       4.0   \n",
       "1     2       1      58.0       6.0       0.0       6.0       6.0       4.0       0.0       0.0   \n",
       "2     1       2      73.0      24.0      22.0      46.0       9.0      24.0      28.0      18.0   \n",
       "3     2       2      95.0      34.0      14.0      48.0       9.0      25.0      16.0      16.0   \n",
       "4     1       3     147.0       7.0       4.0      11.0      17.0       8.0      11.0       2.0   \n",
       "\n",
       "   FEATURE9  FEATURE10  FEATURE11  FEATURE12  FEATURE13  FEATURE14  FEATURE15  FEATURE16  \\\n",
       "0       6.0       27.0       35.0       54.0     2752.0     3443.0     4531.0     6863.0   \n",
       "1       1.0       31.0       36.0       59.0     5094.0     4099.0     3677.0      757.0   \n",
       "2      22.0       23.0       33.0       48.0     8117.0     9205.0     5697.0     8715.0   \n",
       "3      24.0       36.0       29.0       57.0     8917.0     9504.0     4656.0     4047.0   \n",
       "4      10.0       24.0       29.0       45.0     1416.0     2409.0     9059.0     9674.0   \n",
       "\n",
       "   FEATURE17  FEATURE18  FEATURE19  FEATURE20  FEATURE21  TARGET  \n",
       "0     1630.0     3748.0      467.0      393.0     5268.0       0  \n",
       "1       12.0       84.0      459.0     6022.0     6300.0       1  \n",
       "2     2301.0     6243.0     1551.0      509.0     6243.0       1  \n",
       "3     9534.0     1851.0      869.0     3973.0     6295.0       0  \n",
       "4     1519.0     6300.0      925.0      488.0     3973.0       0  "
      ]
     },
     "execution_count": 34,
     "metadata": {},
     "output_type": "execute_result"
    }
   ],
   "source": [
    "DATOS_LIMPIOS.head()"
   ]
  },
  {
   "cell_type": "markdown",
   "metadata": {},
   "source": [
    "### Punto de control - [ Separando datos de control ]"
   ]
  },
  {
   "cell_type": "code",
   "execution_count": 35,
   "metadata": {},
   "outputs": [],
   "source": [
    "DATOS_LIMPIOS[\"CLASIFICACION2\"] = DATOS_LIMPIOS['TARGET'].map({0:'NO RENTABLE', 1:'RENTABLE', 2:'RENTABLE'})"
   ]
  },
  {
   "cell_type": "code",
   "execution_count": 36,
   "metadata": {},
   "outputs": [
    {
     "data": {
      "image/png": "[encoded data removed]",
      "text/plain": [
       "<Figure size 864x576 with 1 Axes>"
      ]
     },
     "metadata": {
      "needs_background": "light"
     },
     "output_type": "display_data"
    }
   ],
   "source": [
    "ncount = len(DATOS_LIMPIOS)\n",
    "\n",
    "plt.figure(figsize=(12,8))\n",
    "ax = sns.countplot(x=\"CLASIFICACION2\", data=DATOS_LIMPIOS)\n",
    "plt.title('Rentabilida segmentos de mercado')\n",
    "plt.xlabel('Rentablidad')\n",
    "\n",
    "for p in ax.patches:\n",
    "    x=p.get_bbox().get_points()[:,0]\n",
    "    y=p.get_bbox().get_points()[1,1]\n",
    "    ax.annotate('{:.1f}% '.format(100.*y/ncount) + '({:}) '.format(p.get_height()), (x.mean(), y), \n",
    "            ha='center', va='bottom')"
   ]
  },
  {
   "cell_type": "markdown",
   "metadata": {},
   "source": [
    "***\n",
    "> Separamos los datos originales para aplicar el modelo final\n",
    "***"
   ]
  },
  {
   "cell_type": "code",
   "execution_count": 37,
   "metadata": {},
   "outputs": [],
   "source": [
    "del DATOS_LIMPIOS['CLASIFICACION2']\n",
    "ORIGINALES = pd.DataFrame()\n",
    "ORIGINALES = DATOS_LIMPIOS.copy()\n"
   ]
  },
  {
   "cell_type": "markdown",
   "metadata": {},
   "source": [
    "***\n",
    "> Separamos los datos que vamos a utilizar para el entrenamiento de los modelos\n",
    "***"
   ]
  },
  {
   "cell_type": "code",
   "execution_count": 38,
   "metadata": {},
   "outputs": [],
   "source": [
    "ENTRENAMIENTO = pd.DataFrame()\n",
    "ENTRENAMIENTO = DATOS_LIMPIOS.copy() "
   ]
  },
  {
   "cell_type": "markdown",
   "metadata": {},
   "source": [
    "***\n",
    "> Creamos dataFrame para almacenar los resultados de las pruebas\n",
    "> con los algoritmos y visualizar los resultados\n",
    "***"
   ]
  },
  {
   "cell_type": "code",
   "execution_count": 39,
   "metadata": {},
   "outputs": [],
   "source": [
    "RENDIMIENTO_NORMAL = pd.DataFrame()\n",
    "RENDIMIENTO_CALIBRADO = pd.DataFrame()"
   ]
  },
  {
   "cell_type": "markdown",
   "metadata": {},
   "source": [
    "***"
   ]
  },
  {
   "cell_type": "markdown",
   "metadata": {},
   "source": [
    "# Selección de caracteristicas mas importantes\n",
    "## Aplicamos [ RFE ]"
   ]
  },
  {
   "cell_type": "markdown",
   "metadata": {},
   "source": [
    "***\n",
    "\n",
    "> Seperamos las caracteristicas con datos y \n",
    "> la variable dependiente u objetivo\n",
    "\n",
    "***"
   ]
  },
  {
   "cell_type": "code",
   "execution_count": 40,
   "metadata": {},
   "outputs": [],
   "source": [
    "X = ENTRENAMIENTO.iloc[:, 0:23]\n",
    "y = ENTRENAMIENTO.iloc[:, -1]"
   ]
  },
  {
   "cell_type": "code",
   "execution_count": 41,
   "metadata": {
    "scrolled": true
   },
   "outputs": [
    {
     "name": "stdout",
     "output_type": "stream",
     "text": [
      "[ True  True  True  True  True  True  True  True  True  True  True  True\n",
      "  True  True  True  True  True  True  True  True  True  True  True]\n",
      "[1 1 1 1 1 1 1 1 1 1 1 1 1 1 1 1 1 1 1 1 1 1 1]\n"
     ]
    }
   ],
   "source": [
    "model = LinearRegression()\n",
    "rfe_SD = RFE(model, 23)\n",
    "X_rfe_SD = rfe_SD.fit_transform(X,y)  \n",
    "model.fit(X_rfe_SD,y)\n",
    "print(rfe_SD.support_)\n",
    "print(rfe_SD.ranking_)"
   ]
  },
  {
   "cell_type": "markdown",
   "metadata": {},
   "source": [
    "***\n",
    "> Aplicando RFE con 23 propiedades\n",
    "> y visualizamos el resultado de variables obtimas\n",
    "***"
   ]
  },
  {
   "cell_type": "code",
   "execution_count": 42,
   "metadata": {
    "scrolled": true
   },
   "outputs": [
    {
     "name": "stdout",
     "output_type": "stream",
     "text": [
      "Número obtimo de columnas o caracteristicas : 18\n",
      "Puntuación con 18 columnas: 0.181579\n"
     ]
    }
   ],
   "source": [
    "nof_list=np.arange(1, 23)            \n",
    "high_score_SD=0\n",
    "#Variable to store the optimum features\n",
    "nof=0           \n",
    "score_list =[]\n",
    "for n in range(len(nof_list)):\n",
    "    X_train, X_test, y_train, y_test = train_test_split(X, y, test_size = 0.3, random_state = 0)\n",
    "    model = LinearRegression()\n",
    "    rfe_SD = RFE(model, nof_list[n])\n",
    "    X_train_rfe_SD = rfe_SD.fit_transform(X_train, y_train)\n",
    "    X_test_rfe_SD = rfe_SD.transform(X_test)\n",
    "    model.fit(X_train_rfe_SD, y_train)\n",
    "    score = model.score(X_test_rfe_SD, y_test)\n",
    "    score_list.append(score)\n",
    "    if(score > high_score_SD):\n",
    "        high_score_SD = score\n",
    "        nof = nof_list[n]\n",
    "\n",
    "print(\"Número obtimo de columnas o caracteristicas : %d\" %nof)\n",
    "print(\"Puntuación con %d columnas: %f\" % (nof, high_score_SD))"
   ]
  },
  {
   "cell_type": "markdown",
   "metadata": {},
   "source": [
    "***\n",
    "> Mostramos la lista de columnas que el proceso RFE\n",
    "> ha elegido como las mas obtimas\n",
    "***"
   ]
  },
  {
   "cell_type": "code",
   "execution_count": 43,
   "metadata": {},
   "outputs": [
    {
     "name": "stdout",
     "output_type": "stream",
     "text": [
      "Index(['GRUPO', 'FEATURE1', 'FEATURE2', 'FEATURE3', 'FEATURE4', 'FEATURE5', 'FEATURE6', 'FEATURE7',\n",
      "       'FEATURE8', 'FEATURE9', 'FEATURE10', 'FEATURE11', 'FEATURE12', 'FEATURE13', 'FEATURE14',\n",
      "       'FEATURE15', 'FEATURE19', 'FEATURE20'],\n",
      "      dtype='object')\n"
     ]
    }
   ],
   "source": [
    "cols = list(X.columns)\n",
    "model = LinearRegression()\n",
    "#Initializing RFE model\n",
    "rfe_SD = RFE(model, 18)             \n",
    "#Transforming data using RFE\n",
    "X_rfe_SD = rfe_SD.fit_transform(X, y)  \n",
    "#Fitting the data to model\n",
    "model.fit(X_rfe_SD, y)              \n",
    "temp = pd.Series(rfe_SD.support_, index = cols)\n",
    "selected_features_rfe_SD = temp[temp==True].index\n",
    "print(selected_features_rfe_SD)"
   ]
  },
  {
   "cell_type": "markdown",
   "metadata": {},
   "source": [
    "***\n",
    "> Creamos un nuevo dataFrame conlas columnas elegidas por el metodo RFE\n",
    "> y seguidamente se le adjunta la columna ['CAMPAÑA'] que fue eliminada pero\n",
    "> es importante por la naturaleza de los datos\n",
    "***"
   ]
  },
  {
   "cell_type": "code",
   "execution_count": 44,
   "metadata": {},
   "outputs": [],
   "source": [
    "df = ENTRENAMIENTO.filter(selected_features_rfe_SD, axis=1)\n",
    "df = pd.concat([df, y], axis=1)"
   ]
  },
  {
   "cell_type": "code",
   "execution_count": 45,
   "metadata": {},
   "outputs": [],
   "source": [
    "df['CAMPAÑA'] = ENTRENAMIENTO['CAMPAÑA']\n",
    "df = pd.concat([df['CAMPAÑA'], df.drop('CAMPAÑA', axis=1)], axis=1)\n"
   ]
  },
  {
   "cell_type": "code",
   "execution_count": 46,
   "metadata": {
    "scrolled": false
   },
   "outputs": [
    {
     "data": {
      "text/html": [
       "<div>\n",
       "<style scoped>\n",
       "    .dataframe tbody tr th:only-of-type {\n",
       "        vertical-align: middle;\n",
       "    }\n",
       "\n",
       "    .dataframe tbody tr th {\n",
       "        vertical-align: top;\n",
       "    }\n",
       "\n",
       "    .dataframe thead th {\n",
       "        text-align: right;\n",
       "    }\n",
       "</style>\n",
       "<table border=\"1\" class=\"dataframe\">\n",
       "  <thead>\n",
       "    <tr style=\"text-align: right;\">\n",
       "      <th></th>\n",
       "      <th>CAMPAÑA</th>\n",
       "      <th>GRUPO</th>\n",
       "      <th>FEATURE1</th>\n",
       "      <th>FEATURE2</th>\n",
       "      <th>FEATURE3</th>\n",
       "      <th>FEATURE4</th>\n",
       "      <th>FEATURE5</th>\n",
       "      <th>FEATURE6</th>\n",
       "      <th>FEATURE7</th>\n",
       "      <th>FEATURE8</th>\n",
       "      <th>FEATURE9</th>\n",
       "      <th>FEATURE10</th>\n",
       "      <th>FEATURE11</th>\n",
       "      <th>FEATURE12</th>\n",
       "      <th>FEATURE13</th>\n",
       "      <th>FEATURE14</th>\n",
       "      <th>FEATURE15</th>\n",
       "      <th>FEATURE19</th>\n",
       "      <th>FEATURE20</th>\n",
       "      <th>TARGET</th>\n",
       "    </tr>\n",
       "  </thead>\n",
       "  <tbody>\n",
       "    <tr>\n",
       "      <td>0</td>\n",
       "      <td>1</td>\n",
       "      <td>1</td>\n",
       "      <td>125.0</td>\n",
       "      <td>1.0</td>\n",
       "      <td>3.0</td>\n",
       "      <td>4.0</td>\n",
       "      <td>4.0</td>\n",
       "      <td>1.0</td>\n",
       "      <td>1.0</td>\n",
       "      <td>4.0</td>\n",
       "      <td>6.0</td>\n",
       "      <td>27.0</td>\n",
       "      <td>35.0</td>\n",
       "      <td>54.0</td>\n",
       "      <td>2752.0</td>\n",
       "      <td>3443.0</td>\n",
       "      <td>4531.0</td>\n",
       "      <td>467.0</td>\n",
       "      <td>393.0</td>\n",
       "      <td>0</td>\n",
       "    </tr>\n",
       "    <tr>\n",
       "      <td>1</td>\n",
       "      <td>1</td>\n",
       "      <td>2</td>\n",
       "      <td>58.0</td>\n",
       "      <td>6.0</td>\n",
       "      <td>0.0</td>\n",
       "      <td>6.0</td>\n",
       "      <td>6.0</td>\n",
       "      <td>4.0</td>\n",
       "      <td>0.0</td>\n",
       "      <td>0.0</td>\n",
       "      <td>1.0</td>\n",
       "      <td>31.0</td>\n",
       "      <td>36.0</td>\n",
       "      <td>59.0</td>\n",
       "      <td>5094.0</td>\n",
       "      <td>4099.0</td>\n",
       "      <td>3677.0</td>\n",
       "      <td>459.0</td>\n",
       "      <td>6022.0</td>\n",
       "      <td>1</td>\n",
       "    </tr>\n",
       "    <tr>\n",
       "      <td>2</td>\n",
       "      <td>2</td>\n",
       "      <td>1</td>\n",
       "      <td>73.0</td>\n",
       "      <td>24.0</td>\n",
       "      <td>22.0</td>\n",
       "      <td>46.0</td>\n",
       "      <td>9.0</td>\n",
       "      <td>24.0</td>\n",
       "      <td>28.0</td>\n",
       "      <td>18.0</td>\n",
       "      <td>22.0</td>\n",
       "      <td>23.0</td>\n",
       "      <td>33.0</td>\n",
       "      <td>48.0</td>\n",
       "      <td>8117.0</td>\n",
       "      <td>9205.0</td>\n",
       "      <td>5697.0</td>\n",
       "      <td>1551.0</td>\n",
       "      <td>509.0</td>\n",
       "      <td>1</td>\n",
       "    </tr>\n",
       "    <tr>\n",
       "      <td>3</td>\n",
       "      <td>2</td>\n",
       "      <td>2</td>\n",
       "      <td>95.0</td>\n",
       "      <td>34.0</td>\n",
       "      <td>14.0</td>\n",
       "      <td>48.0</td>\n",
       "      <td>9.0</td>\n",
       "      <td>25.0</td>\n",
       "      <td>16.0</td>\n",
       "      <td>16.0</td>\n",
       "      <td>24.0</td>\n",
       "      <td>36.0</td>\n",
       "      <td>29.0</td>\n",
       "      <td>57.0</td>\n",
       "      <td>8917.0</td>\n",
       "      <td>9504.0</td>\n",
       "      <td>4656.0</td>\n",
       "      <td>869.0</td>\n",
       "      <td>3973.0</td>\n",
       "      <td>0</td>\n",
       "    </tr>\n",
       "    <tr>\n",
       "      <td>4</td>\n",
       "      <td>3</td>\n",
       "      <td>1</td>\n",
       "      <td>147.0</td>\n",
       "      <td>7.0</td>\n",
       "      <td>4.0</td>\n",
       "      <td>11.0</td>\n",
       "      <td>17.0</td>\n",
       "      <td>8.0</td>\n",
       "      <td>11.0</td>\n",
       "      <td>2.0</td>\n",
       "      <td>10.0</td>\n",
       "      <td>24.0</td>\n",
       "      <td>29.0</td>\n",
       "      <td>45.0</td>\n",
       "      <td>1416.0</td>\n",
       "      <td>2409.0</td>\n",
       "      <td>9059.0</td>\n",
       "      <td>925.0</td>\n",
       "      <td>488.0</td>\n",
       "      <td>0</td>\n",
       "    </tr>\n",
       "  </tbody>\n",
       "</table>\n",
       "</div>"
      ],
      "text/plain": [
       "  CAMPAÑA GRUPO  FEATURE1  FEATURE2  FEATURE3  FEATURE4  FEATURE5  FEATURE6  FEATURE7  FEATURE8  \\\n",
       "0       1     1     125.0       1.0       3.0       4.0       4.0       1.0       1.0       4.0   \n",
       "1       1     2      58.0       6.0       0.0       6.0       6.0       4.0       0.0       0.0   \n",
       "2       2     1      73.0      24.0      22.0      46.0       9.0      24.0      28.0      18.0   \n",
       "3       2     2      95.0      34.0      14.0      48.0       9.0      25.0      16.0      16.0   \n",
       "4       3     1     147.0       7.0       4.0      11.0      17.0       8.0      11.0       2.0   \n",
       "\n",
       "   FEATURE9  FEATURE10  FEATURE11  FEATURE12  FEATURE13  FEATURE14  FEATURE15  FEATURE19  \\\n",
       "0       6.0       27.0       35.0       54.0     2752.0     3443.0     4531.0      467.0   \n",
       "1       1.0       31.0       36.0       59.0     5094.0     4099.0     3677.0      459.0   \n",
       "2      22.0       23.0       33.0       48.0     8117.0     9205.0     5697.0     1551.0   \n",
       "3      24.0       36.0       29.0       57.0     8917.0     9504.0     4656.0      869.0   \n",
       "4      10.0       24.0       29.0       45.0     1416.0     2409.0     9059.0      925.0   \n",
       "\n",
       "   FEATURE20  TARGET  \n",
       "0      393.0       0  \n",
       "1     6022.0       1  \n",
       "2      509.0       1  \n",
       "3     3973.0       0  \n",
       "4      488.0       0  "
      ]
     },
     "execution_count": 46,
     "metadata": {},
     "output_type": "execute_result"
    }
   ],
   "source": [
    "df.head()"
   ]
  },
  {
   "cell_type": "markdown",
   "metadata": {},
   "source": [
    "***\n",
    "> Sepramos la variable objetivo o dependiente\n",
    "> y los valores de las propiedades en dataFrames\n",
    "> para el proceso de entrenamiento\n",
    "***"
   ]
  },
  {
   "cell_type": "code",
   "execution_count": 47,
   "metadata": {},
   "outputs": [
    {
     "data": {
      "text/html": [
       "<div>\n",
       "<style scoped>\n",
       "    .dataframe tbody tr th:only-of-type {\n",
       "        vertical-align: middle;\n",
       "    }\n",
       "\n",
       "    .dataframe tbody tr th {\n",
       "        vertical-align: top;\n",
       "    }\n",
       "\n",
       "    .dataframe thead th {\n",
       "        text-align: right;\n",
       "    }\n",
       "</style>\n",
       "<table border=\"1\" class=\"dataframe\">\n",
       "  <thead>\n",
       "    <tr style=\"text-align: right;\">\n",
       "      <th></th>\n",
       "      <th>CAMPAÑA</th>\n",
       "      <th>GRUPO</th>\n",
       "      <th>FEATURE1</th>\n",
       "      <th>FEATURE2</th>\n",
       "      <th>FEATURE3</th>\n",
       "      <th>FEATURE4</th>\n",
       "      <th>FEATURE5</th>\n",
       "      <th>FEATURE6</th>\n",
       "      <th>FEATURE7</th>\n",
       "      <th>FEATURE8</th>\n",
       "      <th>FEATURE9</th>\n",
       "      <th>FEATURE10</th>\n",
       "      <th>FEATURE11</th>\n",
       "      <th>FEATURE12</th>\n",
       "      <th>FEATURE13</th>\n",
       "      <th>FEATURE14</th>\n",
       "      <th>FEATURE15</th>\n",
       "      <th>FEATURE19</th>\n",
       "      <th>FEATURE20</th>\n",
       "    </tr>\n",
       "  </thead>\n",
       "  <tbody>\n",
       "    <tr>\n",
       "      <td>0</td>\n",
       "      <td>1</td>\n",
       "      <td>1</td>\n",
       "      <td>125.0</td>\n",
       "      <td>1.0</td>\n",
       "      <td>3.0</td>\n",
       "      <td>4.0</td>\n",
       "      <td>4.0</td>\n",
       "      <td>1.0</td>\n",
       "      <td>1.0</td>\n",
       "      <td>4.0</td>\n",
       "      <td>6.0</td>\n",
       "      <td>27.0</td>\n",
       "      <td>35.0</td>\n",
       "      <td>54.0</td>\n",
       "      <td>2752.0</td>\n",
       "      <td>3443.0</td>\n",
       "      <td>4531.0</td>\n",
       "      <td>467.0</td>\n",
       "      <td>393.0</td>\n",
       "    </tr>\n",
       "    <tr>\n",
       "      <td>1</td>\n",
       "      <td>1</td>\n",
       "      <td>2</td>\n",
       "      <td>58.0</td>\n",
       "      <td>6.0</td>\n",
       "      <td>0.0</td>\n",
       "      <td>6.0</td>\n",
       "      <td>6.0</td>\n",
       "      <td>4.0</td>\n",
       "      <td>0.0</td>\n",
       "      <td>0.0</td>\n",
       "      <td>1.0</td>\n",
       "      <td>31.0</td>\n",
       "      <td>36.0</td>\n",
       "      <td>59.0</td>\n",
       "      <td>5094.0</td>\n",
       "      <td>4099.0</td>\n",
       "      <td>3677.0</td>\n",
       "      <td>459.0</td>\n",
       "      <td>6022.0</td>\n",
       "    </tr>\n",
       "    <tr>\n",
       "      <td>2</td>\n",
       "      <td>2</td>\n",
       "      <td>1</td>\n",
       "      <td>73.0</td>\n",
       "      <td>24.0</td>\n",
       "      <td>22.0</td>\n",
       "      <td>46.0</td>\n",
       "      <td>9.0</td>\n",
       "      <td>24.0</td>\n",
       "      <td>28.0</td>\n",
       "      <td>18.0</td>\n",
       "      <td>22.0</td>\n",
       "      <td>23.0</td>\n",
       "      <td>33.0</td>\n",
       "      <td>48.0</td>\n",
       "      <td>8117.0</td>\n",
       "      <td>9205.0</td>\n",
       "      <td>5697.0</td>\n",
       "      <td>1551.0</td>\n",
       "      <td>509.0</td>\n",
       "    </tr>\n",
       "    <tr>\n",
       "      <td>3</td>\n",
       "      <td>2</td>\n",
       "      <td>2</td>\n",
       "      <td>95.0</td>\n",
       "      <td>34.0</td>\n",
       "      <td>14.0</td>\n",
       "      <td>48.0</td>\n",
       "      <td>9.0</td>\n",
       "      <td>25.0</td>\n",
       "      <td>16.0</td>\n",
       "      <td>16.0</td>\n",
       "      <td>24.0</td>\n",
       "      <td>36.0</td>\n",
       "      <td>29.0</td>\n",
       "      <td>57.0</td>\n",
       "      <td>8917.0</td>\n",
       "      <td>9504.0</td>\n",
       "      <td>4656.0</td>\n",
       "      <td>869.0</td>\n",
       "      <td>3973.0</td>\n",
       "    </tr>\n",
       "    <tr>\n",
       "      <td>4</td>\n",
       "      <td>3</td>\n",
       "      <td>1</td>\n",
       "      <td>147.0</td>\n",
       "      <td>7.0</td>\n",
       "      <td>4.0</td>\n",
       "      <td>11.0</td>\n",
       "      <td>17.0</td>\n",
       "      <td>8.0</td>\n",
       "      <td>11.0</td>\n",
       "      <td>2.0</td>\n",
       "      <td>10.0</td>\n",
       "      <td>24.0</td>\n",
       "      <td>29.0</td>\n",
       "      <td>45.0</td>\n",
       "      <td>1416.0</td>\n",
       "      <td>2409.0</td>\n",
       "      <td>9059.0</td>\n",
       "      <td>925.0</td>\n",
       "      <td>488.0</td>\n",
       "    </tr>\n",
       "  </tbody>\n",
       "</table>\n",
       "</div>"
      ],
      "text/plain": [
       "  CAMPAÑA GRUPO  FEATURE1  FEATURE2  FEATURE3  FEATURE4  FEATURE5  FEATURE6  FEATURE7  FEATURE8  \\\n",
       "0       1     1     125.0       1.0       3.0       4.0       4.0       1.0       1.0       4.0   \n",
       "1       1     2      58.0       6.0       0.0       6.0       6.0       4.0       0.0       0.0   \n",
       "2       2     1      73.0      24.0      22.0      46.0       9.0      24.0      28.0      18.0   \n",
       "3       2     2      95.0      34.0      14.0      48.0       9.0      25.0      16.0      16.0   \n",
       "4       3     1     147.0       7.0       4.0      11.0      17.0       8.0      11.0       2.0   \n",
       "\n",
       "   FEATURE9  FEATURE10  FEATURE11  FEATURE12  FEATURE13  FEATURE14  FEATURE15  FEATURE19  \\\n",
       "0       6.0       27.0       35.0       54.0     2752.0     3443.0     4531.0      467.0   \n",
       "1       1.0       31.0       36.0       59.0     5094.0     4099.0     3677.0      459.0   \n",
       "2      22.0       23.0       33.0       48.0     8117.0     9205.0     5697.0     1551.0   \n",
       "3      24.0       36.0       29.0       57.0     8917.0     9504.0     4656.0      869.0   \n",
       "4      10.0       24.0       29.0       45.0     1416.0     2409.0     9059.0      925.0   \n",
       "\n",
       "   FEATURE20  \n",
       "0      393.0  \n",
       "1     6022.0  \n",
       "2      509.0  \n",
       "3     3973.0  \n",
       "4      488.0  "
      ]
     },
     "execution_count": 47,
     "metadata": {},
     "output_type": "execute_result"
    }
   ],
   "source": [
    "target = df.iloc[:, -1]\n",
    "propiedades = df.iloc[: ,0:19]\n",
    "propiedades.head()"
   ]
  },
  {
   "cell_type": "code",
   "execution_count": 48,
   "metadata": {
    "scrolled": true
   },
   "outputs": [
    {
     "name": "stdout",
     "output_type": "stream",
     "text": [
      "<class 'pandas.core.frame.DataFrame'>\n",
      "RangeIndex: 13240 entries, 0 to 13239\n",
      "Data columns (total 19 columns):\n",
      "CAMPAÑA      13240 non-null object\n",
      "GRUPO        13240 non-null object\n",
      "FEATURE1     13240 non-null float64\n",
      "FEATURE2     13240 non-null float64\n",
      "FEATURE3     13240 non-null float64\n",
      "FEATURE4     13240 non-null float64\n",
      "FEATURE5     13240 non-null float64\n",
      "FEATURE6     13240 non-null float64\n",
      "FEATURE7     13240 non-null float64\n",
      "FEATURE8     13240 non-null float64\n",
      "FEATURE9     13240 non-null float64\n",
      "FEATURE10    13240 non-null float64\n",
      "FEATURE11    13240 non-null float64\n",
      "FEATURE12    13240 non-null float64\n",
      "FEATURE13    13240 non-null float64\n",
      "FEATURE14    13240 non-null float64\n",
      "FEATURE15    13240 non-null float64\n",
      "FEATURE19    13240 non-null float64\n",
      "FEATURE20    13240 non-null float64\n",
      "dtypes: float64(17), object(2)\n",
      "memory usage: 1.9+ MB\n"
     ]
    }
   ],
   "source": [
    "propiedades.info()"
   ]
  },
  {
   "cell_type": "markdown",
   "metadata": {},
   "source": [
    "# Entrenamiento y calibracion de modelos"
   ]
  },
  {
   "cell_type": "markdown",
   "metadata": {},
   "source": [
    "***\n",
    "> De las propiedades totales sacamos el 75% (9930) para entrenamiento\n",
    "***"
   ]
  },
  {
   "cell_type": "code",
   "execution_count": 49,
   "metadata": {
    "scrolled": true
   },
   "outputs": [
    {
     "name": "stdout",
     "output_type": "stream",
     "text": [
      "Número de observaciones en nuestro frame de propiedades de  entrenamiento (x): 9930\n",
      "----------------------------------------------------------------------------------------------------\n",
      "  CAMPAÑA GRUPO  FEATURE1  FEATURE2  FEATURE3  FEATURE4  FEATURE5  FEATURE6  FEATURE7  FEATURE8  \\\n",
      "0       1     1     125.0       1.0       3.0       4.0       4.0       1.0       1.0       4.0   \n",
      "1       1     2      58.0       6.0       0.0       6.0       6.0       4.0       0.0       0.0   \n",
      "2       2     1      73.0      24.0      22.0      46.0       9.0      24.0      28.0      18.0   \n",
      "3       2     2      95.0      34.0      14.0      48.0       9.0      25.0      16.0      16.0   \n",
      "4       3     1     147.0       7.0       4.0      11.0      17.0       8.0      11.0       2.0   \n",
      "\n",
      "   FEATURE9  FEATURE10  FEATURE11  FEATURE12  FEATURE13  FEATURE14  FEATURE15  FEATURE19  \\\n",
      "0       6.0       27.0       35.0       54.0     2752.0     3443.0     4531.0      467.0   \n",
      "1       1.0       31.0       36.0       59.0     5094.0     4099.0     3677.0      459.0   \n",
      "2      22.0       23.0       33.0       48.0     8117.0     9205.0     5697.0     1551.0   \n",
      "3      24.0       36.0       29.0       57.0     8917.0     9504.0     4656.0      869.0   \n",
      "4      10.0       24.0       29.0       45.0     1416.0     2409.0     9059.0      925.0   \n",
      "\n",
      "   FEATURE20  \n",
      "0      393.0  \n",
      "1     6022.0  \n",
      "2      509.0  \n",
      "3     3973.0  \n",
      "4      488.0  \n",
      "----------------------------------------------------------------------------------------------------\n",
      "Número de observaciones en nuestro frame objetivo (y):  9930\n",
      "----------------------------------------------------------------------------------------------------\n",
      "0    0\n",
      "1    1\n",
      "2    1\n",
      "3    0\n",
      "4    0\n",
      "Name: TARGET, dtype: int32\n",
      "----------------------------------------------------------------------------------------------------\n"
     ]
    }
   ],
   "source": [
    "X_train = (propiedades[: 9930])\n",
    "print('Número de observaciones en nuestro frame de propiedades de  entrenamiento (x):', len(X_train.index))\n",
    "print('----------------------------------------------------------------------------------------------------')\n",
    "print(X_train.head())\n",
    "#print(X_train.tail())\n",
    "print('----------------------------------------------------------------------------------------------------')\n",
    "#Sacamos el 75% (9930) De los los datos totales de nuestro target o variable dependiente para entrenamiento\n",
    "y_train = target[: 9930]\n",
    "print('Número de observaciones en nuestro frame objetivo (y): ', len(X_train.index))\n",
    "print('----------------------------------------------------------------------------------------------------')\n",
    "print(y_train.head())\n",
    "print('----------------------------------------------------------------------------------------------------')\n"
   ]
  },
  {
   "cell_type": "markdown",
   "metadata": {},
   "source": [
    "***\n",
    "> De las propiedades totales sacamos el 25% (3310) para testeo\n",
    "***"
   ]
  },
  {
   "cell_type": "code",
   "execution_count": 50,
   "metadata": {
    "scrolled": true
   },
   "outputs": [
    {
     "name": "stdout",
     "output_type": "stream",
     "text": [
      "Número de observaciones en nuestro frame de propiedades de  entrenamiento (x): 3310\n",
      "----------------------------------------------------------------------------------------------------\n",
      "     CAMPAÑA GRUPO  FEATURE1  FEATURE2  FEATURE3  FEATURE4  FEATURE5  FEATURE6  FEATURE7  \\\n",
      "9930    4966     2      37.0      29.0      26.0      55.0       1.0      27.0      12.0   \n",
      "9931    4966     1     139.0      10.0       6.0      16.0      19.0      11.0      23.0   \n",
      "9932    4967     2      28.0      12.0       8.0      20.0       1.0      14.0       0.0   \n",
      "9933    4967     1     146.0       5.0       4.0       9.0       9.0       2.0       5.0   \n",
      "9934    4968     2      79.0      11.0      10.0      21.0       1.0      10.0       4.0   \n",
      "\n",
      "      FEATURE8  FEATURE9  FEATURE10  FEATURE11  FEATURE12  FEATURE13  FEATURE14  FEATURE15  \\\n",
      "9930      24.0      12.0       42.0       49.0       83.0    10323.0    10603.0     5952.0   \n",
      "9931      11.0      32.0       15.0       16.0       23.0       85.0      153.0     6258.0   \n",
      "9932       7.0       2.0       41.0       42.0       75.0     8939.0     8395.0     2152.0   \n",
      "9933       3.0       4.0       24.0       36.0       52.0     2438.0     4444.0     5871.0   \n",
      "9934       9.0       4.0       33.0       42.0       67.0     8311.0     7454.0     5718.0   \n",
      "\n",
      "      FEATURE19  FEATURE20  \n",
      "9930     1520.0     2688.0  \n",
      "9931     1482.0      237.0  \n",
      "9932      705.0     2503.0  \n",
      "9933      693.0      441.0  \n",
      "9934      738.0     6604.0  \n",
      "----------------------------------------------------------------------------------------------------\n",
      "Número de observaciones en nuestro frame objetivo (y):  3310\n",
      "----------------------------------------------------------------------------------------------------\n",
      "9930    1\n",
      "9931    0\n",
      "9932    0\n",
      "9933    1\n",
      "9934    1\n",
      "Name: TARGET, dtype: int32\n",
      "----------------------------------------------------------------------------------------------------\n"
     ]
    }
   ],
   "source": [
    "X_test = (propiedades[-3310:])\n",
    "print('Número de observaciones en nuestro frame de propiedades de  entrenamiento (x):', len(X_test.index))\n",
    "print('----------------------------------------------------------------------------------------------------')\n",
    "print(X_test.head())\n",
    "print('----------------------------------------------------------------------------------------------------')\n",
    "#Sacamos el 25% (3310) De los los datos totales de nuestro target o variable dependiente para testeo\n",
    "y_test = target[-3310:]\n",
    "print('Número de observaciones en nuestro frame objetivo (y): ', len(y_test.index))\n",
    "print('----------------------------------------------------------------------------------------------------')\n",
    "print(y_test.head())\n",
    "print('----------------------------------------------------------------------------------------------------')"
   ]
  },
  {
   "cell_type": "code",
   "execution_count": 51,
   "metadata": {
    "scrolled": true
   },
   "outputs": [
    {
     "data": {
      "text/plain": [
       "((7447, 19), (2483, 19))"
      ]
     },
     "execution_count": 51,
     "metadata": {},
     "output_type": "execute_result"
    }
   ],
   "source": [
    "X_train, X_test, y_train, y_test = train_test_split(X_train, y_train, stratify = y_train)\n",
    "X_train.shape, X_test.shape"
   ]
  },
  {
   "cell_type": "markdown",
   "metadata": {},
   "source": [
    "# Random Forest (RF)"
   ]
  },
  {
   "cell_type": "code",
   "execution_count": 52,
   "metadata": {
    "scrolled": true
   },
   "outputs": [
    {
     "name": "stdout",
     "output_type": "stream",
     "text": [
      "Maxima precision de : 0.7031816351188079 con un RF_param  en  8\n"
     ]
    }
   ],
   "source": [
    "from sklearn.ensemble import RandomForestClassifier\n",
    "RF_high_score = 0\n",
    "RF_param = 1\n",
    "\n",
    "for K in range(50):\n",
    "    RF_clasificador = RandomForestClassifier(max_depth= K+1)\n",
    "    RF_clasificador.fit(X_train, y_train)\n",
    "    RF_pred = RF_clasificador.predict(X_test)\n",
    "    score = accuracy_score(y_test, RF_pred)\n",
    "    if( score > RF_high_score):\n",
    "        RF_high_score = score\n",
    "        RF_param = K + 1\n",
    "\n",
    "print('Maxima precision de :', RF_high_score, 'con un RF_param  en ', RF_param)"
   ]
  },
  {
   "cell_type": "code",
   "execution_count": 53,
   "metadata": {},
   "outputs": [
    {
     "name": "stdout",
     "output_type": "stream",
     "text": [
      "Clasificando con RF_param en : 8\n",
      "Exactitud lograda: 0.6999597261377366\n"
     ]
    }
   ],
   "source": [
    "print('Clasificando con RF_param en :', RF_param)\n",
    "RF_clasificador = RandomForestClassifier(max_depth = RF_param)\n",
    "RF_clasificador.fit(X_train, y_train)\n",
    "RF_pred = RF_clasificador.predict(X_test)\n",
    "print('Exactitud lograda:', accuracy_score(y_test, RF_pred))"
   ]
  },
  {
   "cell_type": "code",
   "execution_count": 54,
   "metadata": {},
   "outputs": [
    {
     "data": {
      "text/plain": [
       "0.7279297978008349"
      ]
     },
     "execution_count": 54,
     "metadata": {},
     "output_type": "execute_result"
    }
   ],
   "source": [
    "RF_pred_prob = RF_clasificador.predict_proba(X_test)[:, 1]\n",
    "metrics.roc_auc_score(y_test, RF_pred_prob)"
   ]
  },
  {
   "cell_type": "code",
   "execution_count": 55,
   "metadata": {},
   "outputs": [
    {
     "data": {
      "image/png": "[encoded data removed]",
      "text/plain": [
       "<Figure size 432x288 with 1 Axes>"
      ]
     },
     "metadata": {
      "needs_background": "light"
     },
     "output_type": "display_data"
    }
   ],
   "source": [
    "# Modelo sin calibrar\n",
    "fop, mpv = calibration_curve(y_test, RF_pred_prob, n_bins=10)\n",
    "plt.plot([0, 1], [0, 1], linestyle='--')\n",
    "plt.plot(mpv, fop, marker='.')\n",
    "plt.show()"
   ]
  },
  {
   "cell_type": "code",
   "execution_count": 56,
   "metadata": {
    "scrolled": true
   },
   "outputs": [
    {
     "name": "stdout",
     "output_type": "stream",
     "text": [
      "Matriz de confusion\n",
      "[[0.86533505 0.13466495]\n",
      " [0.57572503 0.42427497]]\n"
     ]
    },
    {
     "data": {
      "image/png": "[encoded data removed]",
      "text/plain": [
       "<Figure size 432x288 with 2 Axes>"
      ]
     },
     "metadata": {
      "needs_background": "light"
     },
     "output_type": "display_data"
    }
   ],
   "source": [
    "#confusion matrix\n",
    "disp = plot_confusion_matrix(RF_clasificador, X_test, y_test, display_labels=target.unique(), cmap=plt.cm.Blues, normalize= 'true')\n",
    "disp.ax_.set_title('Matriz de confusion')\n",
    "print('Matriz de confusion')\n",
    "print(disp.confusion_matrix)\n",
    "plt.show()"
   ]
  },
  {
   "cell_type": "code",
   "execution_count": 57,
   "metadata": {},
   "outputs": [],
   "source": [
    "CM = pd.DataFrame({\"Algoritmo\": ['RF', 'RF'],\n",
    "                   \"Tipo\": [\"Rentable\", \"No-Rentable\"],\n",
    "                   \"Precision\":[disp.confusion_matrix[1][1], disp.confusion_matrix[0][0]]})\n",
    "RENDIMIENTO_NORMAL = RENDIMIENTO_NORMAL.append(CM) "
   ]
  },
  {
   "cell_type": "code",
   "execution_count": 58,
   "metadata": {},
   "outputs": [
    {
     "data": {
      "image/png": "[encoded data removed]",
      "text/plain": [
       "<Figure size 432x288 with 1 Axes>"
      ]
     },
     "metadata": {
      "needs_background": "light"
     },
     "output_type": "display_data"
    }
   ],
   "source": [
    "from sklearn.calibration import CalibratedClassifierCV\n",
    "#Random Forest calibrado\n",
    "RF_calibrado = CalibratedClassifierCV(RF_clasificador, cv='prefit')\n",
    "RF_calibrado.fit(X_train, y_train)\n",
    "# Prediciendo probabilidades\n",
    "RF_pred_probs_calibrado = RF_calibrado.predict_proba(X_test)[:, 1]\n",
    "\n",
    "fop, mpv = calibration_curve(y_test, RF_pred_probs_calibrado, n_bins=10)\n",
    "\n",
    "plt.plot([0, 1], [0, 1], linestyle='--')\n",
    "\n",
    "plt.plot(mpv, fop, marker='.')\n",
    "plt.show()"
   ]
  },
  {
   "cell_type": "code",
   "execution_count": 59,
   "metadata": {
    "scrolled": true
   },
   "outputs": [
    {
     "name": "stdout",
     "output_type": "stream",
     "text": [
      "Matriz de confusion\n",
      "[[0.8060567  0.1939433 ]\n",
      " [0.48657358 0.51342642]]\n"
     ]
    },
    {
     "data": {
      "image/png": "[encoded data removed]",
      "text/plain": [
       "<Figure size 432x288 with 2 Axes>"
      ]
     },
     "metadata": {
      "needs_background": "light"
     },
     "output_type": "display_data"
    }
   ],
   "source": [
    "#confusion matrix\n",
    "disp = plot_confusion_matrix(RF_calibrado, X_test, y_test, display_labels=target.unique(), cmap=plt.cm.Blues, normalize= 'true')\n",
    "disp.ax_.set_title('Matriz de confusion')\n",
    "print('Matriz de confusion')\n",
    "print(disp.confusion_matrix)\n",
    "plt.show()"
   ]
  },
  {
   "cell_type": "code",
   "execution_count": 60,
   "metadata": {},
   "outputs": [],
   "source": [
    "CM = pd.DataFrame({\"Algoritmo\": ['RF', 'RF'],\n",
    "                   \"Tipo\": [\"Rentable\", \"No-Rentable\"],\n",
    "                   \"Precision\":[disp.confusion_matrix[1][1], disp.confusion_matrix[0][0]]})\n",
    "RENDIMIENTO_CALIBRADO = RENDIMIENTO_CALIBRADO.append(CM) "
   ]
  },
  {
   "cell_type": "markdown",
   "metadata": {},
   "source": [
    "# K-nearest neighbors (KNN)"
   ]
  },
  {
   "cell_type": "code",
   "execution_count": 61,
   "metadata": {},
   "outputs": [
    {
     "name": "stdout",
     "output_type": "stream",
     "text": [
      "Maxima precision de : 0.6697543294401933 con un KNN_param  en  52\n"
     ]
    }
   ],
   "source": [
    "from sklearn.neighbors import KNeighborsClassifier\n",
    "KNN_high_score = 0\n",
    "KNN_param = 1\n",
    "for K in range(100):\n",
    "    KNN_clasificador = KNeighborsClassifier(n_neighbors=K+1)\n",
    "    KNN_clasificador.fit(X_train, y_train)\n",
    "    KNN_pred = KNN_clasificador.predict(X_test)\n",
    "    score = accuracy_score(y_test, KNN_pred)\n",
    "    if( score > KNN_high_score):\n",
    "        KNN_high_score = score\n",
    "        KNN_param = K+1\n",
    "        \n",
    "print('Maxima precision de :', KNN_high_score, 'con un KNN_param  en ', KNN_param)"
   ]
  },
  {
   "cell_type": "code",
   "execution_count": 62,
   "metadata": {},
   "outputs": [
    {
     "name": "stdout",
     "output_type": "stream",
     "text": [
      "Clasificando con KNN_param en : 52\n",
      "Exactitud lograda: 0.6697543294401933\n"
     ]
    }
   ],
   "source": [
    "print('Clasificando con KNN_param en :', KNN_param)\n",
    "KNN_clasificador = KNeighborsClassifier(n_neighbors = KNN_param)\n",
    "KNN_clasificador.fit(X_train, y_train)\n",
    "KNN_pred = KNN_clasificador.predict(X_test)\n",
    "print('Exactitud lograda:', accuracy_score(y_test, KNN_pred))"
   ]
  },
  {
   "cell_type": "code",
   "execution_count": 63,
   "metadata": {},
   "outputs": [
    {
     "data": {
      "text/plain": [
       "0.6645671155059962"
      ]
     },
     "execution_count": 63,
     "metadata": {},
     "output_type": "execute_result"
    }
   ],
   "source": [
    "KNN_pred_prob = KNN_clasificador.predict_proba(X_test)[:, 1]\n",
    "metrics.roc_auc_score(y_test, KNN_pred_prob)"
   ]
  },
  {
   "cell_type": "code",
   "execution_count": 64,
   "metadata": {},
   "outputs": [
    {
     "data": {
      "image/png": "[encoded data removed]",
      "text/plain": [
       "<Figure size 432x288 with 1 Axes>"
      ]
     },
     "metadata": {
      "needs_background": "light"
     },
     "output_type": "display_data"
    }
   ],
   "source": [
    "# Modelo sin calibrar\n",
    "fop, mpv = calibration_curve(y_test, KNN_pred_prob, n_bins=10)\n",
    "plt.plot([0, 1], [0, 1], linestyle='--')\n",
    "plt.plot(mpv, fop, marker='.')\n",
    "plt.show()"
   ]
  },
  {
   "cell_type": "code",
   "execution_count": 65,
   "metadata": {
    "scrolled": true
   },
   "outputs": [
    {
     "name": "stdout",
     "output_type": "stream",
     "text": [
      "Matriz de confusion\n",
      "[[0.89819588 0.10180412]\n",
      " [0.71106337 0.28893663]]\n"
     ]
    },
    {
     "data": {
      "image/png": "[encoded data removed]",
      "text/plain": [
       "<Figure size 432x288 with 2 Axes>"
      ]
     },
     "metadata": {
      "needs_background": "light"
     },
     "output_type": "display_data"
    }
   ],
   "source": [
    "# Plot non-normalized confusion matrix\n",
    "disp = plot_confusion_matrix(KNN_clasificador, X_test, y_test, display_labels=target.unique(), cmap=plt.cm.Blues, normalize= 'true')\n",
    "disp.ax_.set_title('Matriz de confusion')\n",
    "print('Matriz de confusion')\n",
    "print(disp.confusion_matrix)\n",
    "plt.show()"
   ]
  },
  {
   "cell_type": "code",
   "execution_count": 66,
   "metadata": {},
   "outputs": [],
   "source": [
    "CM = pd.DataFrame({\"Algoritmo\": ['KNN', 'KNN'],\n",
    "                   \"Tipo\": [\"Rentable\", \"No-Rentable\"],\n",
    "                   \"Precision\":[disp.confusion_matrix[1][1], disp.confusion_matrix[0][0]]})\n",
    "RENDIMIENTO_NORMAL = RENDIMIENTO_NORMAL.append(CM) "
   ]
  },
  {
   "cell_type": "code",
   "execution_count": 67,
   "metadata": {},
   "outputs": [
    {
     "data": {
      "image/png": "[encoded data removed]",
      "text/plain": [
       "<Figure size 432x288 with 1 Axes>"
      ]
     },
     "metadata": {
      "needs_background": "light"
     },
     "output_type": "display_data"
    }
   ],
   "source": [
    "from sklearn.calibration import CalibratedClassifierCV\n",
    "# KNN calibrado\n",
    "KNN_calibrado = CalibratedClassifierCV(KNN_clasificador, method='sigmoid', cv=5)\n",
    "KNN_calibrado.fit(X_train, y_train)\n",
    "\n",
    "# Prediciendo probabilidades\n",
    "KNN_pred_probs_calibrado = KNN_calibrado.predict_proba(X_test)[:, 1]\n",
    "fop, mpv = calibration_curve(y_test, KNN_pred_probs_calibrado, n_bins=10, normalize=True)\n",
    "plt.plot([0, 1], [0, 1], linestyle='--')\n",
    "plt.plot(mpv, fop, marker='.')\n",
    "plt.show()"
   ]
  },
  {
   "cell_type": "code",
   "execution_count": 68,
   "metadata": {
    "scrolled": true
   },
   "outputs": [
    {
     "name": "stdout",
     "output_type": "stream",
     "text": [
      "Matriz de confusion\n",
      "[[0.90335052 0.09664948]\n",
      " [0.73791622 0.26208378]]\n"
     ]
    },
    {
     "data": {
      "image/png": "[encoded data removed]",
      "text/plain": [
       "<Figure size 432x288 with 2 Axes>"
      ]
     },
     "metadata": {
      "needs_background": "light"
     },
     "output_type": "display_data"
    }
   ],
   "source": [
    "# Plot non-normalized confusion matrix\n",
    "disp = plot_confusion_matrix(KNN_calibrado, X_test, y_test, display_labels=target.unique(), cmap=plt.cm.Blues, normalize= 'true')\n",
    "disp.ax_.set_title('Matriz de confusion')\n",
    "print('Matriz de confusion')\n",
    "print(disp.confusion_matrix)\n",
    "plt.show()"
   ]
  },
  {
   "cell_type": "code",
   "execution_count": 69,
   "metadata": {},
   "outputs": [],
   "source": [
    "CM = pd.DataFrame({\"Algoritmo\": ['KNN', 'KNN'],\n",
    "                   \"Tipo\": [\"Rentable\", \"No-Rentable\"],\n",
    "                   \"Precision\":[disp.confusion_matrix[1][1], disp.confusion_matrix[0][0]]})\n",
    "RENDIMIENTO_CALIBRADO = RENDIMIENTO_CALIBRADO.append(CM) \n"
   ]
  },
  {
   "cell_type": "markdown",
   "metadata": {},
   "source": [
    "#  Decision Tree"
   ]
  },
  {
   "cell_type": "code",
   "execution_count": 70,
   "metadata": {},
   "outputs": [
    {
     "name": "stdout",
     "output_type": "stream",
     "text": [
      "Maxima precision de : 0.7003624647603706 con un DT_param  en  5\n"
     ]
    }
   ],
   "source": [
    "from sklearn.tree import DecisionTreeClassifier\n",
    "from sklearn.metrics import accuracy_score\n",
    "DT_high_score = 0\n",
    "DT_param = 1\n",
    "for K in range(50):\n",
    "    DT_clasificador = DecisionTreeClassifier(criterion = 'gini', max_depth = K+1, max_features = 13, min_samples_leaf = 2, random_state = 0)\n",
    "    DT_clasificador.fit(X_train, y_train)\n",
    "    DT_pred = DT_clasificador.predict(X_test)\n",
    "    score = accuracy_score(y_test, DT_pred)\n",
    "    if( score > DT_high_score):\n",
    "        DT_high_score = score\n",
    "        DT_param = K+1\n",
    "        \n",
    "print('Maxima precision de :', DT_high_score, 'con un DT_param  en ', DT_param)"
   ]
  },
  {
   "cell_type": "code",
   "execution_count": 71,
   "metadata": {},
   "outputs": [
    {
     "name": "stdout",
     "output_type": "stream",
     "text": [
      "Clasificando con DT_param en : 5\n",
      "Exactitud lograda: 0.7003624647603706\n"
     ]
    }
   ],
   "source": [
    "print('Clasificando con DT_param en :', DT_param)\n",
    "DT_clasificador = DecisionTreeClassifier(criterion = 'gini', max_depth = DT_param, max_features = 13,\n",
    "                                         min_samples_leaf = 2, random_state = 0)\n",
    "DT_clasificador.fit(X_train, y_train)\n",
    "DT_pred = DT_clasificador.predict(X_test)\n",
    "print('Exactitud lograda:', accuracy_score(y_test, DT_pred))"
   ]
  },
  {
   "cell_type": "code",
   "execution_count": 72,
   "metadata": {},
   "outputs": [
    {
     "data": {
      "text/plain": [
       "0.7216404874483705"
      ]
     },
     "execution_count": 72,
     "metadata": {},
     "output_type": "execute_result"
    }
   ],
   "source": [
    "DT_pred_prob = DT_clasificador.predict_proba(X_test)[:, 1]\n",
    "metrics.roc_auc_score(y_test, DT_pred_prob)"
   ]
  },
  {
   "cell_type": "code",
   "execution_count": 73,
   "metadata": {},
   "outputs": [
    {
     "data": {
      "image/png": "[encoded data removed]",
      "text/plain": [
       "<Figure size 432x288 with 1 Axes>"
      ]
     },
     "metadata": {
      "needs_background": "light"
     },
     "output_type": "display_data"
    }
   ],
   "source": [
    "# Modelo sin calibrar\n",
    "fop, mpv = calibration_curve(y_test, DT_pred_prob, n_bins=10)\n",
    "plt.plot([0, 1], [0, 1], linestyle='--')\n",
    "plt.plot(mpv, fop, marker='.')\n",
    "plt.show()"
   ]
  },
  {
   "cell_type": "code",
   "execution_count": 74,
   "metadata": {
    "scrolled": false
   },
   "outputs": [
    {
     "name": "stdout",
     "output_type": "stream",
     "text": [
      "Matriz de confusion\n",
      "[[0.86791237 0.13208763]\n",
      " [0.57894737 0.42105263]]\n"
     ]
    },
    {
     "data": {
      "image/png": "[encoded data removed]",
      "text/plain": [
       "<Figure size 432x288 with 2 Axes>"
      ]
     },
     "metadata": {
      "needs_background": "light"
     },
     "output_type": "display_data"
    }
   ],
   "source": [
    "# Plot non-normalized confusion matrix\n",
    "disp = plot_confusion_matrix(DT_clasificador, X_test, y_test, display_labels=target.unique(),\n",
    "                             cmap=plt.cm.Blues, normalize= 'true')\n",
    "disp.ax_.set_title('Matriz de confusion')\n",
    "print('Matriz de confusion')\n",
    "print(disp.confusion_matrix)\n",
    "plt.show()"
   ]
  },
  {
   "cell_type": "code",
   "execution_count": 75,
   "metadata": {},
   "outputs": [],
   "source": [
    "CM = pd.DataFrame({\"Algoritmo\": ['Decision Tree', 'Decision Tree'],\n",
    "                   \"Tipo\": [\"Rentable\", \"No-Rentable\"],\n",
    "                   \"Precision\":[disp.confusion_matrix[1][1], disp.confusion_matrix[0][0]]})\n",
    "RENDIMIENTO_NORMAL = RENDIMIENTO_NORMAL.append(CM) "
   ]
  },
  {
   "cell_type": "code",
   "execution_count": 76,
   "metadata": {},
   "outputs": [
    {
     "data": {
      "image/png": "[encoded data removed]",
      "text/plain": [
       "<Figure size 432x288 with 1 Axes>"
      ]
     },
     "metadata": {
      "needs_background": "light"
     },
     "output_type": "display_data"
    }
   ],
   "source": [
    "from sklearn.calibration import CalibratedClassifierCV\n",
    "# Decision Tree calibrado\n",
    "DT_calibrado = CalibratedClassifierCV(DT_clasificador, method='sigmoid', cv=9)\n",
    "DT_calibrado.fit(X_train, y_train)\n",
    "\n",
    "# Prediciendo probabilidades\n",
    "DT_pred_probs_calibrado = DT_calibrado.predict_proba(X_test)[:, 1]\n",
    "fop, mpv = calibration_curve(y_test, DT_pred_probs_calibrado, n_bins=10, normalize=True)\n",
    "plt.plot([0, 1], [0, 1], linestyle='--')\n",
    "plt.plot(mpv, fop, marker='.')\n",
    "plt.show()"
   ]
  },
  {
   "cell_type": "code",
   "execution_count": 77,
   "metadata": {
    "scrolled": false
   },
   "outputs": [
    {
     "name": "stdout",
     "output_type": "stream",
     "text": [
      "Matriz de confusion\n",
      "[[0.85309278 0.14690722]\n",
      " [0.55209452 0.44790548]]\n"
     ]
    },
    {
     "data": {
      "image/png": "[encoded data removed]",
      "text/plain": [
       "<Figure size 432x288 with 2 Axes>"
      ]
     },
     "metadata": {
      "needs_background": "light"
     },
     "output_type": "display_data"
    }
   ],
   "source": [
    "# Plot non-normalized confusion matrix\n",
    "disp = plot_confusion_matrix(DT_calibrado, X_test, y_test, display_labels=target.unique(), cmap=plt.cm.Blues, normalize= 'true')\n",
    "disp.ax_.set_title('Matriz de confusion')\n",
    "print('Matriz de confusion')\n",
    "print(disp.confusion_matrix)\n",
    "plt.show()"
   ]
  },
  {
   "cell_type": "code",
   "execution_count": 78,
   "metadata": {},
   "outputs": [],
   "source": [
    "CM = pd.DataFrame({\"Algoritmo\": ['Decision Tree', 'Decision Tree'],\n",
    "                   \"Tipo\": [\"Rentable\", \"No-Rentable\"],\n",
    "                   \"Precision\":[disp.confusion_matrix[1][1], disp.confusion_matrix[0][0]]})\n",
    "RENDIMIENTO_CALIBRADO = RENDIMIENTO_CALIBRADO.append(CM) "
   ]
  },
  {
   "cell_type": "code",
   "execution_count": 79,
   "metadata": {
    "scrolled": true
   },
   "outputs": [
    {
     "data": {
      "text/html": [
       "<div>\n",
       "<style scoped>\n",
       "    .dataframe tbody tr th:only-of-type {\n",
       "        vertical-align: middle;\n",
       "    }\n",
       "\n",
       "    .dataframe tbody tr th {\n",
       "        vertical-align: top;\n",
       "    }\n",
       "\n",
       "    .dataframe thead th {\n",
       "        text-align: right;\n",
       "    }\n",
       "</style>\n",
       "<table border=\"1\" class=\"dataframe\">\n",
       "  <thead>\n",
       "    <tr style=\"text-align: right;\">\n",
       "      <th></th>\n",
       "      <th>Algoritmo</th>\n",
       "      <th>Tipo</th>\n",
       "      <th>Precision</th>\n",
       "    </tr>\n",
       "  </thead>\n",
       "  <tbody>\n",
       "    <tr>\n",
       "      <td>0</td>\n",
       "      <td>RF</td>\n",
       "      <td>Rentable</td>\n",
       "      <td>0.42</td>\n",
       "    </tr>\n",
       "    <tr>\n",
       "      <td>1</td>\n",
       "      <td>RF</td>\n",
       "      <td>No-Rentable</td>\n",
       "      <td>0.87</td>\n",
       "    </tr>\n",
       "    <tr>\n",
       "      <td>0</td>\n",
       "      <td>KNN</td>\n",
       "      <td>Rentable</td>\n",
       "      <td>0.29</td>\n",
       "    </tr>\n",
       "    <tr>\n",
       "      <td>1</td>\n",
       "      <td>KNN</td>\n",
       "      <td>No-Rentable</td>\n",
       "      <td>0.90</td>\n",
       "    </tr>\n",
       "    <tr>\n",
       "      <td>0</td>\n",
       "      <td>Decision Tree</td>\n",
       "      <td>Rentable</td>\n",
       "      <td>0.42</td>\n",
       "    </tr>\n",
       "    <tr>\n",
       "      <td>1</td>\n",
       "      <td>Decision Tree</td>\n",
       "      <td>No-Rentable</td>\n",
       "      <td>0.87</td>\n",
       "    </tr>\n",
       "  </tbody>\n",
       "</table>\n",
       "</div>"
      ],
      "text/plain": [
       "       Algoritmo         Tipo  Precision\n",
       "0             RF     Rentable       0.42\n",
       "1             RF  No-Rentable       0.87\n",
       "0            KNN     Rentable       0.29\n",
       "1            KNN  No-Rentable       0.90\n",
       "0  Decision Tree     Rentable       0.42\n",
       "1  Decision Tree  No-Rentable       0.87"
      ]
     },
     "execution_count": 79,
     "metadata": {},
     "output_type": "execute_result"
    }
   ],
   "source": [
    "RENDIMIENTO_NORMAL.head(10)"
   ]
  },
  {
   "cell_type": "code",
   "execution_count": 80,
   "metadata": {},
   "outputs": [
    {
     "data": {
      "image/png": "[encoded data removed]",
      "text/plain": [
       "<Figure size 464.234x360 with 1 Axes>"
      ]
     },
     "metadata": {
      "needs_background": "light"
     },
     "output_type": "display_data"
    }
   ],
   "source": [
    "\n",
    "fg = sns.catplot(x=\"Tipo\", y=\"Precision\", hue=\"Algoritmo\", kind=\"bar\", data=RENDIMIENTO_NORMAL);\n",
    "fg.fig.suptitle('RENDIMIENTO DE MODELOS SIN CALIBRAR')\n",
    "ax = plt.gca()\n",
    "y_max = RENDIMIENTO_NORMAL['Precision'].value_counts().max() \n",
    "ax.set_ylim([0, 1])\n",
    "\n",
    "for p in ax.patches:\n",
    "    percentage = '{:.1f}%'.format(100 * p.get_height() / y_max)\n",
    "    ax.text(p.get_x() + p.get_width()/2., p.get_height(),percentage, fontsize=12, color='black', ha='center', va='bottom')"
   ]
  },
  {
   "cell_type": "code",
   "execution_count": 81,
   "metadata": {},
   "outputs": [
    {
     "data": {
      "text/html": [
       "<div>\n",
       "<style scoped>\n",
       "    .dataframe tbody tr th:only-of-type {\n",
       "        vertical-align: middle;\n",
       "    }\n",
       "\n",
       "    .dataframe tbody tr th {\n",
       "        vertical-align: top;\n",
       "    }\n",
       "\n",
       "    .dataframe thead th {\n",
       "        text-align: right;\n",
       "    }\n",
       "</style>\n",
       "<table border=\"1\" class=\"dataframe\">\n",
       "  <thead>\n",
       "    <tr style=\"text-align: right;\">\n",
       "      <th></th>\n",
       "      <th>Algoritmo</th>\n",
       "      <th>Tipo</th>\n",
       "      <th>Precision</th>\n",
       "    </tr>\n",
       "  </thead>\n",
       "  <tbody>\n",
       "    <tr>\n",
       "      <td>0</td>\n",
       "      <td>RF</td>\n",
       "      <td>Rentable</td>\n",
       "      <td>0.51</td>\n",
       "    </tr>\n",
       "    <tr>\n",
       "      <td>1</td>\n",
       "      <td>RF</td>\n",
       "      <td>No-Rentable</td>\n",
       "      <td>0.81</td>\n",
       "    </tr>\n",
       "    <tr>\n",
       "      <td>0</td>\n",
       "      <td>KNN</td>\n",
       "      <td>Rentable</td>\n",
       "      <td>0.26</td>\n",
       "    </tr>\n",
       "    <tr>\n",
       "      <td>1</td>\n",
       "      <td>KNN</td>\n",
       "      <td>No-Rentable</td>\n",
       "      <td>0.90</td>\n",
       "    </tr>\n",
       "    <tr>\n",
       "      <td>0</td>\n",
       "      <td>Decision Tree</td>\n",
       "      <td>Rentable</td>\n",
       "      <td>0.45</td>\n",
       "    </tr>\n",
       "    <tr>\n",
       "      <td>1</td>\n",
       "      <td>Decision Tree</td>\n",
       "      <td>No-Rentable</td>\n",
       "      <td>0.85</td>\n",
       "    </tr>\n",
       "  </tbody>\n",
       "</table>\n",
       "</div>"
      ],
      "text/plain": [
       "       Algoritmo         Tipo  Precision\n",
       "0             RF     Rentable       0.51\n",
       "1             RF  No-Rentable       0.81\n",
       "0            KNN     Rentable       0.26\n",
       "1            KNN  No-Rentable       0.90\n",
       "0  Decision Tree     Rentable       0.45\n",
       "1  Decision Tree  No-Rentable       0.85"
      ]
     },
     "execution_count": 81,
     "metadata": {},
     "output_type": "execute_result"
    }
   ],
   "source": [
    "RENDIMIENTO_CALIBRADO.head(10)"
   ]
  },
  {
   "cell_type": "code",
   "execution_count": 82,
   "metadata": {},
   "outputs": [
    {
     "data": {
      "image/png": "[encoded data removed]",
      "text/plain": [
       "<Figure size 464.234x360 with 1 Axes>"
      ]
     },
     "metadata": {
      "needs_background": "light"
     },
     "output_type": "display_data"
    }
   ],
   "source": [
    "fg = sns.catplot(x=\"Tipo\", y=\"Precision\", hue=\"Algoritmo\", kind=\"bar\", data=RENDIMIENTO_CALIBRADO);\n",
    "fg.fig.suptitle('RENDIMIENTO DE MODELOS CALIBRADOS')\n",
    "ax = plt.gca()\n",
    "ax.set_ylim([0, 1])\n",
    "y_max = RENDIMIENTO_CALIBRADO['Precision'].value_counts().max() \n",
    "\n",
    "for p in ax.patches:\n",
    "    percentage = '{:.1f}%'.format(100 * p.get_height() / y_max)\n",
    "    ax.text(p.get_x() + p.get_width()/2., p.get_height(),percentage, fontsize=12, color='black', ha='center', va='bottom')"
   ]
  },
  {
   "cell_type": "markdown",
   "metadata": {},
   "source": [
    "# Seleccion del mejor modelo"
   ]
  },
  {
   "cell_type": "markdown",
   "metadata": {},
   "source": [
    "***\n",
    "> Como vemos en las graficas de rendimiento de modelos calibrados,\n",
    "> el mejor rendimiento es obtenido por el modelo Random Forest [ RF ]\n",
    "> en el momento de predecir la variable dependiente (TIPO)\n",
    "***"
   ]
  },
  {
   "cell_type": "markdown",
   "metadata": {},
   "source": [
    "# Aplicando mejor modelo (RandomForest)"
   ]
  },
  {
   "cell_type": "code",
   "execution_count": 83,
   "metadata": {},
   "outputs": [],
   "source": [
    "DATOS_COMPLETOS = ORIGINALES.filter(selected_features_rfe_SD, axis=1)\n",
    "#DATOS_COMPLETOS = pd.concat([DATOS_COMPLETOS, y], axis=1)"
   ]
  },
  {
   "cell_type": "code",
   "execution_count": 84,
   "metadata": {
    "scrolled": true
   },
   "outputs": [
    {
     "data": {
      "text/html": [
       "<div>\n",
       "<style scoped>\n",
       "    .dataframe tbody tr th:only-of-type {\n",
       "        vertical-align: middle;\n",
       "    }\n",
       "\n",
       "    .dataframe tbody tr th {\n",
       "        vertical-align: top;\n",
       "    }\n",
       "\n",
       "    .dataframe thead th {\n",
       "        text-align: right;\n",
       "    }\n",
       "</style>\n",
       "<table border=\"1\" class=\"dataframe\">\n",
       "  <thead>\n",
       "    <tr style=\"text-align: right;\">\n",
       "      <th></th>\n",
       "      <th>CAMPAÑA</th>\n",
       "      <th>GRUPO</th>\n",
       "      <th>FEATURE1</th>\n",
       "      <th>FEATURE2</th>\n",
       "      <th>FEATURE3</th>\n",
       "      <th>FEATURE4</th>\n",
       "      <th>FEATURE5</th>\n",
       "      <th>FEATURE6</th>\n",
       "      <th>FEATURE7</th>\n",
       "      <th>FEATURE8</th>\n",
       "      <th>FEATURE9</th>\n",
       "      <th>FEATURE10</th>\n",
       "      <th>FEATURE11</th>\n",
       "      <th>FEATURE12</th>\n",
       "      <th>FEATURE13</th>\n",
       "      <th>FEATURE14</th>\n",
       "      <th>FEATURE15</th>\n",
       "      <th>FEATURE19</th>\n",
       "      <th>FEATURE20</th>\n",
       "      <th>TARGET</th>\n",
       "    </tr>\n",
       "  </thead>\n",
       "  <tbody>\n",
       "    <tr>\n",
       "      <td>0</td>\n",
       "      <td>1</td>\n",
       "      <td>1</td>\n",
       "      <td>125.0</td>\n",
       "      <td>1.0</td>\n",
       "      <td>3.0</td>\n",
       "      <td>4.0</td>\n",
       "      <td>4.0</td>\n",
       "      <td>1.0</td>\n",
       "      <td>1.0</td>\n",
       "      <td>4.0</td>\n",
       "      <td>6.0</td>\n",
       "      <td>27.0</td>\n",
       "      <td>35.0</td>\n",
       "      <td>54.0</td>\n",
       "      <td>2752.0</td>\n",
       "      <td>3443.0</td>\n",
       "      <td>4531.0</td>\n",
       "      <td>467.0</td>\n",
       "      <td>393.0</td>\n",
       "      <td>0</td>\n",
       "    </tr>\n",
       "    <tr>\n",
       "      <td>1</td>\n",
       "      <td>1</td>\n",
       "      <td>2</td>\n",
       "      <td>58.0</td>\n",
       "      <td>6.0</td>\n",
       "      <td>0.0</td>\n",
       "      <td>6.0</td>\n",
       "      <td>6.0</td>\n",
       "      <td>4.0</td>\n",
       "      <td>0.0</td>\n",
       "      <td>0.0</td>\n",
       "      <td>1.0</td>\n",
       "      <td>31.0</td>\n",
       "      <td>36.0</td>\n",
       "      <td>59.0</td>\n",
       "      <td>5094.0</td>\n",
       "      <td>4099.0</td>\n",
       "      <td>3677.0</td>\n",
       "      <td>459.0</td>\n",
       "      <td>6022.0</td>\n",
       "      <td>1</td>\n",
       "    </tr>\n",
       "    <tr>\n",
       "      <td>2</td>\n",
       "      <td>2</td>\n",
       "      <td>1</td>\n",
       "      <td>73.0</td>\n",
       "      <td>24.0</td>\n",
       "      <td>22.0</td>\n",
       "      <td>46.0</td>\n",
       "      <td>9.0</td>\n",
       "      <td>24.0</td>\n",
       "      <td>28.0</td>\n",
       "      <td>18.0</td>\n",
       "      <td>22.0</td>\n",
       "      <td>23.0</td>\n",
       "      <td>33.0</td>\n",
       "      <td>48.0</td>\n",
       "      <td>8117.0</td>\n",
       "      <td>9205.0</td>\n",
       "      <td>5697.0</td>\n",
       "      <td>1551.0</td>\n",
       "      <td>509.0</td>\n",
       "      <td>1</td>\n",
       "    </tr>\n",
       "    <tr>\n",
       "      <td>3</td>\n",
       "      <td>2</td>\n",
       "      <td>2</td>\n",
       "      <td>95.0</td>\n",
       "      <td>34.0</td>\n",
       "      <td>14.0</td>\n",
       "      <td>48.0</td>\n",
       "      <td>9.0</td>\n",
       "      <td>25.0</td>\n",
       "      <td>16.0</td>\n",
       "      <td>16.0</td>\n",
       "      <td>24.0</td>\n",
       "      <td>36.0</td>\n",
       "      <td>29.0</td>\n",
       "      <td>57.0</td>\n",
       "      <td>8917.0</td>\n",
       "      <td>9504.0</td>\n",
       "      <td>4656.0</td>\n",
       "      <td>869.0</td>\n",
       "      <td>3973.0</td>\n",
       "      <td>0</td>\n",
       "    </tr>\n",
       "    <tr>\n",
       "      <td>4</td>\n",
       "      <td>3</td>\n",
       "      <td>1</td>\n",
       "      <td>147.0</td>\n",
       "      <td>7.0</td>\n",
       "      <td>4.0</td>\n",
       "      <td>11.0</td>\n",
       "      <td>17.0</td>\n",
       "      <td>8.0</td>\n",
       "      <td>11.0</td>\n",
       "      <td>2.0</td>\n",
       "      <td>10.0</td>\n",
       "      <td>24.0</td>\n",
       "      <td>29.0</td>\n",
       "      <td>45.0</td>\n",
       "      <td>1416.0</td>\n",
       "      <td>2409.0</td>\n",
       "      <td>9059.0</td>\n",
       "      <td>925.0</td>\n",
       "      <td>488.0</td>\n",
       "      <td>0</td>\n",
       "    </tr>\n",
       "  </tbody>\n",
       "</table>\n",
       "</div>"
      ],
      "text/plain": [
       "  CAMPAÑA GRUPO  FEATURE1  FEATURE2  FEATURE3  FEATURE4  FEATURE5  FEATURE6  FEATURE7  FEATURE8  \\\n",
       "0       1     1     125.0       1.0       3.0       4.0       4.0       1.0       1.0       4.0   \n",
       "1       1     2      58.0       6.0       0.0       6.0       6.0       4.0       0.0       0.0   \n",
       "2       2     1      73.0      24.0      22.0      46.0       9.0      24.0      28.0      18.0   \n",
       "3       2     2      95.0      34.0      14.0      48.0       9.0      25.0      16.0      16.0   \n",
       "4       3     1     147.0       7.0       4.0      11.0      17.0       8.0      11.0       2.0   \n",
       "\n",
       "   FEATURE9  FEATURE10  FEATURE11  FEATURE12  FEATURE13  FEATURE14  FEATURE15  FEATURE19  \\\n",
       "0       6.0       27.0       35.0       54.0     2752.0     3443.0     4531.0      467.0   \n",
       "1       1.0       31.0       36.0       59.0     5094.0     4099.0     3677.0      459.0   \n",
       "2      22.0       23.0       33.0       48.0     8117.0     9205.0     5697.0     1551.0   \n",
       "3      24.0       36.0       29.0       57.0     8917.0     9504.0     4656.0      869.0   \n",
       "4      10.0       24.0       29.0       45.0     1416.0     2409.0     9059.0      925.0   \n",
       "\n",
       "   FEATURE20  TARGET  \n",
       "0      393.0       0  \n",
       "1     6022.0       1  \n",
       "2      509.0       1  \n",
       "3     3973.0       0  \n",
       "4      488.0       0  "
      ]
     },
     "execution_count": 84,
     "metadata": {},
     "output_type": "execute_result"
    }
   ],
   "source": [
    "DATOS_COMPLETOS['CAMPAÑA'] = ORIGINALES['CAMPAÑA']\n",
    "DATOS_COMPLETOS = pd.concat([df['CAMPAÑA'], df.drop('CAMPAÑA', axis=1)], axis=1)\n",
    "DATOS_COMPLETOS.head()"
   ]
  },
  {
   "cell_type": "code",
   "execution_count": 85,
   "metadata": {},
   "outputs": [
    {
     "data": {
      "text/plain": [
       "0        0\n",
       "1        1\n",
       "2        1\n",
       "3        0\n",
       "4        0\n",
       "        ..\n",
       "13235    1\n",
       "13236    0\n",
       "13237    1\n",
       "13238    0\n",
       "13239    0\n",
       "Name: TARGET, Length: 13240, dtype: int32"
      ]
     },
     "execution_count": 85,
     "metadata": {},
     "output_type": "execute_result"
    }
   ],
   "source": [
    "DATOS_COMPLETOS_X = DATOS_COMPLETOS.iloc[: ,0:19]\n",
    "DATOS_COMPLETOS_Y = DATOS_COMPLETOS.iloc[:, -1]\n",
    "DATOS_COMPLETOS_Y"
   ]
  },
  {
   "cell_type": "code",
   "execution_count": 92,
   "metadata": {},
   "outputs": [
    {
     "name": "stdout",
     "output_type": "stream",
     "text": [
      "Exactitud lograda: 0.7441842900302115\n"
     ]
    }
   ],
   "source": [
    "PREDICCION_FINAL = RF_clasificador.predict(DATOS_COMPLETOS_X)\n",
    "print('Exactitud lograda:', accuracy_score(DATOS_COMPLETOS_Y, PREDICCION_FINAL))"
   ]
  },
  {
   "cell_type": "code",
   "execution_count": 93,
   "metadata": {},
   "outputs": [
    {
     "name": "stdout",
     "output_type": "stream",
     "text": [
      "Matriz de confusion\n",
      "[[0.90056715 0.09943285]\n",
      " [0.51746416 0.48253584]]\n"
     ]
    },
    {
     "data": {
      "image/png": "[encoded data removed]",
      "text/plain": [
       "<Figure size 432x288 with 2 Axes>"
      ]
     },
     "metadata": {
      "needs_background": "light"
     },
     "output_type": "display_data"
    }
   ],
   "source": [
    "#confusion matrix\n",
    "disp = plot_confusion_matrix(RF_clasificador, DATOS_COMPLETOS_X, DATOS_COMPLETOS_Y, display_labels=target.unique(), cmap=plt.cm.Blues, normalize= 'true')\n",
    "disp.ax_.set_title('Matriz de confusion')\n",
    "print('Matriz de confusion')\n",
    "print(disp.confusion_matrix)\n",
    "plt.show()"
   ]
  },
  {
   "cell_type": "code",
   "execution_count": 94,
   "metadata": {
    "scrolled": true
   },
   "outputs": [],
   "source": [
    "DATOS_COMPLETOS['PREDICCION'] = PREDICCION_FINAL\n",
    "DATOS_COMPLETOS[\"CLASIFICACION1\"] = DATOS_COMPLETOS['TARGET'].map({0:'NO RENTABLE', 1:'RENTABLE'})\n",
    "DATOS_COMPLETOS[\"CLASIFICACION2\"] = DATOS_COMPLETOS['PREDICCION'].map({0:'NO RENTABLE', 1:'RENTABLE'})"
   ]
  },
  {
   "cell_type": "markdown",
   "metadata": {},
   "source": [
    "# Resultado"
   ]
  },
  {
   "cell_type": "markdown",
   "metadata": {},
   "source": [
    "> Los resultados de aplicar el mejor modelo a los datos relales notamos que no es lo que andamos buscando,\n",
    "> El modelo se muestra eficiente en predecir los grupos no rentables con un 90% de exactitud, pero por otro\n",
    "> lado el predecir grupos rentables es totalmente inutil por lo que la aplicacion de esta solucion queda\n",
    "> desestimada, ya que ninguno de los otros modelos podría arrojar un mejor resultado"
   ]
  },
  {
   "cell_type": "markdown",
   "metadata": {},
   "source": [
    "### Comparaciones"
   ]
  },
  {
   "cell_type": "code",
   "execution_count": 95,
   "metadata": {},
   "outputs": [
    {
     "data": {
      "image/png": "[encoded data removed]",
      "text/plain": [
       "<Figure size 864x576 with 1 Axes>"
      ]
     },
     "metadata": {
      "needs_background": "light"
     },
     "output_type": "display_data"
    }
   ],
   "source": [
    "ncount = len(DATOS_LIMPIOS)\n",
    "\n",
    "plt.figure(figsize=(12,8))\n",
    "ax = sns.countplot(x=\"CLASIFICACION1\", data=DATOS_COMPLETOS)\n",
    "plt.title('Rentabilida segmentos de mercado original')\n",
    "plt.xlabel('Rentablidad')\n",
    "\n",
    "for p in ax.patches:\n",
    "    x=p.get_bbox().get_points()[:,0]\n",
    "    y=p.get_bbox().get_points()[1,1]\n",
    "    ax.annotate('{:.1f}% '.format(100.*y/ncount) + '({:}) '.format(p.get_height()), (x.mean(), y), \n",
    "            ha='center', va='bottom')"
   ]
  },
  {
   "cell_type": "code",
   "execution_count": 96,
   "metadata": {},
   "outputs": [
    {
     "data": {
      "image/png": "[encoded data removed]",
      "text/plain": [
       "<Figure size 864x576 with 1 Axes>"
      ]
     },
     "metadata": {
      "needs_background": "light"
     },
     "output_type": "display_data"
    }
   ],
   "source": [
    "ncount = len(DATOS_COMPLETOS)\n",
    "\n",
    "plt.figure(figsize=(12,8))\n",
    "ax = sns.countplot(x=\"CLASIFICACION2\", data=DATOS_COMPLETOS)\n",
    "plt.title('Rentabilida segmentos de mercado prediccion')\n",
    "plt.xlabel('Rentablidad')\n",
    "\n",
    "for p in ax.patches:\n",
    "    x=p.get_bbox().get_points()[:,0]\n",
    "    y=p.get_bbox().get_points()[1,1]\n",
    "    ax.annotate('{:.1f}% '.format(100.*y/ncount) + '({:}) '.format(p.get_height()), (x.mean(), y), \n",
    "            ha='center', va='bottom')"
   ]
  },
  {
   "cell_type": "markdown",
   "metadata": {},
   "source": [
    "> Como podemos observar existe una diferencia de hasta 10 puntos porcentuales entre\n",
    "> los datos reales y los predichos por el modelo"
   ]
  },
  {
   "cell_type": "code",
   "execution_count": null,
   "metadata": {},
   "outputs": [],
   "source": []
  }
 ],
 "metadata": {
  "kernelspec": {
   "display_name": "Python 3",
   "language": "python",
   "name": "python3"
  },
  "language_info": {
   "codemirror_mode": {
    "name": "ipython",
    "version": 3
   },
   "file_extension": ".py",
   "mimetype": "text/x-python",
   "name": "python",
   "nbconvert_exporter": "python",
   "pygments_lexer": "ipython3",
   "version": "3.7.4"
  }
 },
 "nbformat": 4,
 "nbformat_minor": 2
}
